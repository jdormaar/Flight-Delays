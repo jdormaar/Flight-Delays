{
 "cells": [
  {
   "cell_type": "markdown",
   "metadata": {},
   "source": [
    "# Machine Learning\n",
    "\n",
    "In this file, instructions how to approach the challenge can be found."
   ]
  },
  {
   "cell_type": "markdown",
   "metadata": {},
   "source": [
    "We are going to work on different types of Machine Learning problems:\n",
    "\n",
    "- **Regression Problem**: The goal is to predict delay of flights.\n",
    "- **(Stretch) Multiclass Classification**: If the plane was delayed, we will predict what type of delay it is (will be).\n",
    "- **(Stretch) Binary Classification**: The goal is to predict if the flight will be cancelled."
   ]
  },
  {
   "cell_type": "code",
   "execution_count": 67,
   "metadata": {},
   "outputs": [],
   "source": [
    "import pandas as pd\n",
    "import numpy as np\n",
    "\n",
    "import matplotlib.pyplot as plt\n",
    "%matplotlib inline\n",
    "import seaborn as sns\n",
    "sns.set_theme()\n",
    "\n",
    "import statsmodels.api as sm\n",
    "import sklearn\n",
    "\n",
    "import xgboost as xgb\n",
    "from sklearn.metrics import mean_squared_error"
   ]
  },
  {
   "cell_type": "markdown",
   "metadata": {},
   "source": [
    "## Main Task: Regression Problem"
   ]
  },
  {
   "cell_type": "markdown",
   "metadata": {},
   "source": [
    "The target variable is **ARR_DELAY**. We need to be careful which columns to use and which don't. For example, DEP_DELAY is going to be the perfect predictor, but we can't use it because in real-life scenario, we want to predict the delay before the flight takes of --> We can use average delay from earlier days but not the one from the actual flight we predict.  \n",
    "\n",
    "For example, variables **CARRIER_DELAY, WEATHER_DELAY, NAS_DELAY, SECURITY_DELAY, LATE_AIRCRAFT_DELAY** shouldn't be used directly as predictors as well. However, we can create various transformations from earlier values.\n",
    "\n",
    "We will be evaluating your models by predicting the ARR_DELAY for all flights **1 week in advance**."
   ]
  },
  {
   "cell_type": "code",
   "execution_count": 68,
   "metadata": {},
   "outputs": [
    {
     "data": {
      "text/html": [
       "<div>\n",
       "<style scoped>\n",
       "    .dataframe tbody tr th:only-of-type {\n",
       "        vertical-align: middle;\n",
       "    }\n",
       "\n",
       "    .dataframe tbody tr th {\n",
       "        vertical-align: top;\n",
       "    }\n",
       "\n",
       "    .dataframe thead th {\n",
       "        text-align: right;\n",
       "    }\n",
       "</style>\n",
       "<table border=\"1\" class=\"dataframe\">\n",
       "  <thead>\n",
       "    <tr style=\"text-align: right;\">\n",
       "      <th></th>\n",
       "      <th>fl_date</th>\n",
       "      <th>origin</th>\n",
       "      <th>dest</th>\n",
       "      <th>crs_dep_time</th>\n",
       "      <th>dep_time</th>\n",
       "      <th>dep_delay</th>\n",
       "      <th>crs_arr_time</th>\n",
       "      <th>arr_time</th>\n",
       "      <th>arr_delay</th>\n",
       "      <th>crs_elapsed_time</th>\n",
       "      <th>...</th>\n",
       "      <th>distance</th>\n",
       "      <th>carrier_delay</th>\n",
       "      <th>weather_delay</th>\n",
       "      <th>nas_delay</th>\n",
       "      <th>security_delay</th>\n",
       "      <th>late_aircraft_delay</th>\n",
       "      <th>first_dep_time</th>\n",
       "      <th>year</th>\n",
       "      <th>month</th>\n",
       "      <th>day_of_wk</th>\n",
       "    </tr>\n",
       "  </thead>\n",
       "  <tbody>\n",
       "    <tr>\n",
       "      <th>0</th>\n",
       "      <td>2018-10-05</td>\n",
       "      <td>237</td>\n",
       "      <td>248</td>\n",
       "      <td>1655</td>\n",
       "      <td>1655.0</td>\n",
       "      <td>0.0</td>\n",
       "      <td>1825</td>\n",
       "      <td>1806.0</td>\n",
       "      <td>-19.0</td>\n",
       "      <td>150.0</td>\n",
       "      <td>...</td>\n",
       "      <td>764</td>\n",
       "      <td>NaN</td>\n",
       "      <td>NaN</td>\n",
       "      <td>NaN</td>\n",
       "      <td>NaN</td>\n",
       "      <td>NaN</td>\n",
       "      <td>NaN</td>\n",
       "      <td>2018</td>\n",
       "      <td>10</td>\n",
       "      <td>4</td>\n",
       "    </tr>\n",
       "    <tr>\n",
       "      <th>1</th>\n",
       "      <td>2018-10-05</td>\n",
       "      <td>304</td>\n",
       "      <td>15</td>\n",
       "      <td>1510</td>\n",
       "      <td>1522.0</td>\n",
       "      <td>12.0</td>\n",
       "      <td>1740</td>\n",
       "      <td>1742.0</td>\n",
       "      <td>2.0</td>\n",
       "      <td>270.0</td>\n",
       "      <td>...</td>\n",
       "      <td>1750</td>\n",
       "      <td>NaN</td>\n",
       "      <td>NaN</td>\n",
       "      <td>NaN</td>\n",
       "      <td>NaN</td>\n",
       "      <td>NaN</td>\n",
       "      <td>NaN</td>\n",
       "      <td>2018</td>\n",
       "      <td>10</td>\n",
       "      <td>4</td>\n",
       "    </tr>\n",
       "    <tr>\n",
       "      <th>2</th>\n",
       "      <td>2018-10-05</td>\n",
       "      <td>290</td>\n",
       "      <td>71</td>\n",
       "      <td>1135</td>\n",
       "      <td>1130.0</td>\n",
       "      <td>-5.0</td>\n",
       "      <td>1315</td>\n",
       "      <td>1254.0</td>\n",
       "      <td>-21.0</td>\n",
       "      <td>100.0</td>\n",
       "      <td>...</td>\n",
       "      <td>543</td>\n",
       "      <td>NaN</td>\n",
       "      <td>NaN</td>\n",
       "      <td>NaN</td>\n",
       "      <td>NaN</td>\n",
       "      <td>NaN</td>\n",
       "      <td>NaN</td>\n",
       "      <td>2018</td>\n",
       "      <td>10</td>\n",
       "      <td>4</td>\n",
       "    </tr>\n",
       "    <tr>\n",
       "      <th>3</th>\n",
       "      <td>2018-10-05</td>\n",
       "      <td>329</td>\n",
       "      <td>34</td>\n",
       "      <td>1830</td>\n",
       "      <td>1854.0</td>\n",
       "      <td>24.0</td>\n",
       "      <td>2255</td>\n",
       "      <td>2318.0</td>\n",
       "      <td>23.0</td>\n",
       "      <td>145.0</td>\n",
       "      <td>...</td>\n",
       "      <td>1020</td>\n",
       "      <td>0.0</td>\n",
       "      <td>0.0</td>\n",
       "      <td>0.0</td>\n",
       "      <td>0.0</td>\n",
       "      <td>23.0</td>\n",
       "      <td>NaN</td>\n",
       "      <td>2018</td>\n",
       "      <td>10</td>\n",
       "      <td>4</td>\n",
       "    </tr>\n",
       "    <tr>\n",
       "      <th>4</th>\n",
       "      <td>2018-10-05</td>\n",
       "      <td>329</td>\n",
       "      <td>152</td>\n",
       "      <td>825</td>\n",
       "      <td>857.0</td>\n",
       "      <td>32.0</td>\n",
       "      <td>1015</td>\n",
       "      <td>1039.0</td>\n",
       "      <td>24.0</td>\n",
       "      <td>110.0</td>\n",
       "      <td>...</td>\n",
       "      <td>601</td>\n",
       "      <td>24.0</td>\n",
       "      <td>0.0</td>\n",
       "      <td>0.0</td>\n",
       "      <td>0.0</td>\n",
       "      <td>0.0</td>\n",
       "      <td>NaN</td>\n",
       "      <td>2018</td>\n",
       "      <td>10</td>\n",
       "      <td>4</td>\n",
       "    </tr>\n",
       "  </tbody>\n",
       "</table>\n",
       "<p>5 rows × 21 columns</p>\n",
       "</div>"
      ],
      "text/plain": [
       "      fl_date  origin  dest  crs_dep_time  dep_time  dep_delay  crs_arr_time  \\\n",
       "0  2018-10-05     237   248          1655    1655.0        0.0          1825   \n",
       "1  2018-10-05     304    15          1510    1522.0       12.0          1740   \n",
       "2  2018-10-05     290    71          1135    1130.0       -5.0          1315   \n",
       "3  2018-10-05     329    34          1830    1854.0       24.0          2255   \n",
       "4  2018-10-05     329   152           825     857.0       32.0          1015   \n",
       "\n",
       "   arr_time  arr_delay  crs_elapsed_time  ...  distance  carrier_delay  \\\n",
       "0    1806.0      -19.0             150.0  ...       764            NaN   \n",
       "1    1742.0        2.0             270.0  ...      1750            NaN   \n",
       "2    1254.0      -21.0             100.0  ...       543            NaN   \n",
       "3    2318.0       23.0             145.0  ...      1020            0.0   \n",
       "4    1039.0       24.0             110.0  ...       601           24.0   \n",
       "\n",
       "   weather_delay  nas_delay  security_delay  late_aircraft_delay  \\\n",
       "0            NaN        NaN             NaN                  NaN   \n",
       "1            NaN        NaN             NaN                  NaN   \n",
       "2            NaN        NaN             NaN                  NaN   \n",
       "3            0.0        0.0             0.0                 23.0   \n",
       "4            0.0        0.0             0.0                  0.0   \n",
       "\n",
       "   first_dep_time  year  month  day_of_wk  \n",
       "0             NaN  2018     10          4  \n",
       "1             NaN  2018     10          4  \n",
       "2             NaN  2018     10          4  \n",
       "3             NaN  2018     10          4  \n",
       "4             NaN  2018     10          4  \n",
       "\n",
       "[5 rows x 21 columns]"
      ]
     },
     "execution_count": 68,
     "metadata": {},
     "output_type": "execute_result"
    }
   ],
   "source": [
    "# Load table\n",
    "df_numeric = pd.read_csv('../data/df_numeric_with_delays.csv')\n",
    "df_weather = pd.read_csv('../data/df_weather_aux.csv')\n",
    "df = df_numeric.copy()\n",
    "df.head()"
   ]
  },
  {
   "cell_type": "code",
   "execution_count": 69,
   "metadata": {},
   "outputs": [
    {
     "data": {
      "text/html": [
       "<div>\n",
       "<style scoped>\n",
       "    .dataframe tbody tr th:only-of-type {\n",
       "        vertical-align: middle;\n",
       "    }\n",
       "\n",
       "    .dataframe tbody tr th {\n",
       "        vertical-align: top;\n",
       "    }\n",
       "\n",
       "    .dataframe thead th {\n",
       "        text-align: right;\n",
       "    }\n",
       "</style>\n",
       "<table border=\"1\" class=\"dataframe\">\n",
       "  <thead>\n",
       "    <tr style=\"text-align: right;\">\n",
       "      <th></th>\n",
       "      <th>max_temp_C</th>\n",
       "      <th>min_temp_C</th>\n",
       "      <th>avg_temp_C</th>\n",
       "      <th>total_snow_cm</th>\n",
       "      <th>sun_hour</th>\n",
       "      <th>uv_index</th>\n",
       "      <th>arr_wind_chill_C</th>\n",
       "      <th>arr_wind_gust_Kmph</th>\n",
       "      <th>arr_cloud_cover</th>\n",
       "      <th>arr_precip_MM</th>\n",
       "      <th>arr_pressure</th>\n",
       "      <th>arr_temp_C</th>\n",
       "      <th>arr_time</th>\n",
       "      <th>arr_uv_index</th>\n",
       "      <th>arr_visibility</th>\n",
       "      <th>arr_weather_code</th>\n",
       "      <th>arr_wind_dir_16Point</th>\n",
       "      <th>arr_wind_dir_degree</th>\n",
       "      <th>arr_wind_speed_Kmph</th>\n",
       "      <th>arr_weather_type</th>\n",
       "    </tr>\n",
       "  </thead>\n",
       "  <tbody>\n",
       "    <tr>\n",
       "      <th>0</th>\n",
       "      <td>31</td>\n",
       "      <td>22</td>\n",
       "      <td>27</td>\n",
       "      <td>0.0</td>\n",
       "      <td>11.6</td>\n",
       "      <td>7</td>\n",
       "      <td>26</td>\n",
       "      <td>5</td>\n",
       "      <td>8</td>\n",
       "      <td>2.4</td>\n",
       "      <td>1017</td>\n",
       "      <td>26</td>\n",
       "      <td>1800</td>\n",
       "      <td>1</td>\n",
       "      <td>9</td>\n",
       "      <td>176</td>\n",
       "      <td>SSW</td>\n",
       "      <td>194</td>\n",
       "      <td>2</td>\n",
       "      <td>Patchy rain possible</td>\n",
       "    </tr>\n",
       "    <tr>\n",
       "      <th>1</th>\n",
       "      <td>25</td>\n",
       "      <td>19</td>\n",
       "      <td>23</td>\n",
       "      <td>0.0</td>\n",
       "      <td>11.6</td>\n",
       "      <td>6</td>\n",
       "      <td>23</td>\n",
       "      <td>9</td>\n",
       "      <td>3</td>\n",
       "      <td>0.0</td>\n",
       "      <td>1012</td>\n",
       "      <td>23</td>\n",
       "      <td>1800</td>\n",
       "      <td>1</td>\n",
       "      <td>10</td>\n",
       "      <td>113</td>\n",
       "      <td>WSW</td>\n",
       "      <td>238</td>\n",
       "      <td>8</td>\n",
       "      <td>Clear</td>\n",
       "    </tr>\n",
       "    <tr>\n",
       "      <th>2</th>\n",
       "      <td>22</td>\n",
       "      <td>15</td>\n",
       "      <td>19</td>\n",
       "      <td>0.0</td>\n",
       "      <td>8.7</td>\n",
       "      <td>5</td>\n",
       "      <td>22</td>\n",
       "      <td>12</td>\n",
       "      <td>6</td>\n",
       "      <td>0.0</td>\n",
       "      <td>1018</td>\n",
       "      <td>22</td>\n",
       "      <td>1200</td>\n",
       "      <td>6</td>\n",
       "      <td>10</td>\n",
       "      <td>113</td>\n",
       "      <td>WNW</td>\n",
       "      <td>288</td>\n",
       "      <td>10</td>\n",
       "      <td>Sunny</td>\n",
       "    </tr>\n",
       "    <tr>\n",
       "      <th>3</th>\n",
       "      <td>31</td>\n",
       "      <td>26</td>\n",
       "      <td>29</td>\n",
       "      <td>0.0</td>\n",
       "      <td>11.6</td>\n",
       "      <td>6</td>\n",
       "      <td>27</td>\n",
       "      <td>10</td>\n",
       "      <td>17</td>\n",
       "      <td>0.9</td>\n",
       "      <td>1015</td>\n",
       "      <td>27</td>\n",
       "      <td>0</td>\n",
       "      <td>1</td>\n",
       "      <td>9</td>\n",
       "      <td>176</td>\n",
       "      <td>SE</td>\n",
       "      <td>138</td>\n",
       "      <td>6</td>\n",
       "      <td>Patchy rain possible</td>\n",
       "    </tr>\n",
       "    <tr>\n",
       "      <th>4</th>\n",
       "      <td>18</td>\n",
       "      <td>7</td>\n",
       "      <td>14</td>\n",
       "      <td>0.0</td>\n",
       "      <td>11.6</td>\n",
       "      <td>4</td>\n",
       "      <td>14</td>\n",
       "      <td>7</td>\n",
       "      <td>19</td>\n",
       "      <td>0.0</td>\n",
       "      <td>1018</td>\n",
       "      <td>13</td>\n",
       "      <td>900</td>\n",
       "      <td>4</td>\n",
       "      <td>10</td>\n",
       "      <td>113</td>\n",
       "      <td>SE</td>\n",
       "      <td>143</td>\n",
       "      <td>6</td>\n",
       "      <td>Sunny</td>\n",
       "    </tr>\n",
       "  </tbody>\n",
       "</table>\n",
       "</div>"
      ],
      "text/plain": [
       "   max_temp_C  min_temp_C  avg_temp_C  total_snow_cm  sun_hour  uv_index  \\\n",
       "0          31          22          27            0.0      11.6         7   \n",
       "1          25          19          23            0.0      11.6         6   \n",
       "2          22          15          19            0.0       8.7         5   \n",
       "3          31          26          29            0.0      11.6         6   \n",
       "4          18           7          14            0.0      11.6         4   \n",
       "\n",
       "   arr_wind_chill_C  arr_wind_gust_Kmph  arr_cloud_cover  arr_precip_MM  \\\n",
       "0                26                   5                8            2.4   \n",
       "1                23                   9                3            0.0   \n",
       "2                22                  12                6            0.0   \n",
       "3                27                  10               17            0.9   \n",
       "4                14                   7               19            0.0   \n",
       "\n",
       "   arr_pressure  arr_temp_C  arr_time  arr_uv_index  arr_visibility  \\\n",
       "0          1017          26      1800             1               9   \n",
       "1          1012          23      1800             1              10   \n",
       "2          1018          22      1200             6              10   \n",
       "3          1015          27         0             1               9   \n",
       "4          1018          13       900             4              10   \n",
       "\n",
       "   arr_weather_code arr_wind_dir_16Point  arr_wind_dir_degree  \\\n",
       "0               176                  SSW                  194   \n",
       "1               113                  WSW                  238   \n",
       "2               113                  WNW                  288   \n",
       "3               176                   SE                  138   \n",
       "4               113                   SE                  143   \n",
       "\n",
       "   arr_wind_speed_Kmph      arr_weather_type  \n",
       "0                    2  Patchy rain possible  \n",
       "1                    8                 Clear  \n",
       "2                   10                 Sunny  \n",
       "3                    6  Patchy rain possible  \n",
       "4                    6                 Sunny  "
      ]
     },
     "execution_count": 69,
     "metadata": {},
     "output_type": "execute_result"
    }
   ],
   "source": [
    "df_weather.head()"
   ]
  },
  {
   "cell_type": "code",
   "execution_count": 107,
   "metadata": {},
   "outputs": [
    {
     "name": "stdout",
     "output_type": "stream",
     "text": [
      "\n",
      "flights_missing_data.head(20)\n"
     ]
    },
    {
     "data": {
      "text/html": [
       "<div>\n",
       "<style scoped>\n",
       "    .dataframe tbody tr th:only-of-type {\n",
       "        vertical-align: middle;\n",
       "    }\n",
       "\n",
       "    .dataframe tbody tr th {\n",
       "        vertical-align: top;\n",
       "    }\n",
       "\n",
       "    .dataframe thead th {\n",
       "        text-align: right;\n",
       "    }\n",
       "</style>\n",
       "<table border=\"1\" class=\"dataframe\">\n",
       "  <thead>\n",
       "    <tr style=\"text-align: right;\">\n",
       "      <th></th>\n",
       "      <th>Total</th>\n",
       "      <th>Percent</th>\n",
       "    </tr>\n",
       "  </thead>\n",
       "  <tbody>\n",
       "    <tr>\n",
       "      <th>max_temp_C</th>\n",
       "      <td>0</td>\n",
       "      <td>0.0</td>\n",
       "    </tr>\n",
       "    <tr>\n",
       "      <th>min_temp_C</th>\n",
       "      <td>0</td>\n",
       "      <td>0.0</td>\n",
       "    </tr>\n",
       "    <tr>\n",
       "      <th>arr_wind_speed_Kmph</th>\n",
       "      <td>0</td>\n",
       "      <td>0.0</td>\n",
       "    </tr>\n",
       "    <tr>\n",
       "      <th>arr_wind_dir_degree</th>\n",
       "      <td>0</td>\n",
       "      <td>0.0</td>\n",
       "    </tr>\n",
       "    <tr>\n",
       "      <th>arr_wind_dir_16Point</th>\n",
       "      <td>0</td>\n",
       "      <td>0.0</td>\n",
       "    </tr>\n",
       "  </tbody>\n",
       "</table>\n",
       "</div>"
      ],
      "text/plain": [
       "                      Total  Percent\n",
       "max_temp_C                0      0.0\n",
       "min_temp_C                0      0.0\n",
       "arr_wind_speed_Kmph       0      0.0\n",
       "arr_wind_dir_degree       0      0.0\n",
       "arr_wind_dir_16Point      0      0.0"
      ]
     },
     "metadata": {},
     "output_type": "display_data"
    }
   ],
   "source": [
    "# Check for nulls in weather:\n",
    "# flights Table percent Null content:\n",
    "df_weather_nulls = df_weather.isnull().sum().sort_values(ascending= False)\n",
    "perc = (df_weather.isnull().sum()/df_weather.isnull().count()).sort_values(ascending = False)\n",
    "df_weather_missing_data = pd.concat(\n",
    "    [df_weather_nulls, perc]\n",
    "  , axis=1\n",
    "  , keys=['Total', 'Percent']\n",
    "  , verify_integrity= True\n",
    ")\n",
    "print(f'\\nflights_missing_data.head(20)')\n",
    "display(df_weather_missing_data.head(5))"
   ]
  },
  {
   "cell_type": "code",
   "execution_count": 109,
   "metadata": {},
   "outputs": [
    {
     "data": {
      "text/plain": [
       "{'Overcast': 0,\n",
       " 'Light rain': 1,\n",
       " 'Moderate or heavy freezing rain': 2,\n",
       " 'Patchy sleet possible': 3,\n",
       " 'Patchy rain possible': 4,\n",
       " 'Moderate or heavy rain shower': 5,\n",
       " 'Patchy light rain': 6,\n",
       " 'Thundery outbreaks possible': 7,\n",
       " 'Blizzard': 8,\n",
       " 'Freezing drizzle': 9,\n",
       " 'Moderate rain at times': 10,\n",
       " 'Heavy rain at times': 11,\n",
       " 'Mist': 12,\n",
       " 'Sunny': 13,\n",
       " 'Moderate or heavy snow with thunder': 14,\n",
       " 'Light snow': 15,\n",
       " 'Blowing snow': 16,\n",
       " 'Light snow showers': 17,\n",
       " 'Patchy light drizzle': 18,\n",
       " 'Torrential rain shower': 19,\n",
       " 'Moderate snow': 20,\n",
       " 'Clear': 21,\n",
       " 'Patchy freezing drizzle possible': 22,\n",
       " 'Light freezing rain': 23,\n",
       " 'Heavy freezing drizzle': 24,\n",
       " 'Heavy snow': 25,\n",
       " 'Patchy heavy snow': 26,\n",
       " 'Light sleet': 27,\n",
       " 'Cloudy': 28,\n",
       " 'Patchy snow possible': 29,\n",
       " 'Light rain shower': 30,\n",
       " 'Patchy light snow with thunder': 31,\n",
       " 'Moderate rain': 32,\n",
       " 'Patchy light rain with thunder': 33,\n",
       " 'Moderate or heavy showers of ice pellets': 34,\n",
       " 'Partly cloudy': 35,\n",
       " 'Moderate or heavy rain with thunder': 36,\n",
       " 'Moderate or heavy sleet': 37,\n",
       " 'Light sleet showers': 38,\n",
       " 'Ice pellets': 39,\n",
       " 'Fog': 40,\n",
       " 'Light drizzle': 41,\n",
       " 'Patchy moderate snow': 42,\n",
       " 'Heavy rain': 43,\n",
       " 'Moderate or heavy snow showers': 44,\n",
       " 'Patchy light snow': 45,\n",
       " 'Light showers of ice pellets': 46,\n",
       " 'Freezing fog': 47}"
      ]
     },
     "execution_count": 109,
     "metadata": {},
     "output_type": "execute_result"
    }
   ],
   "source": [
    "keys = set(list(df_weather['arr_weather_type']))\n",
    "values = len(keys)\n",
    "weather_type_code_map = dict(zip(keys, range(values)))\n",
    "weather_type_code_map"
   ]
  },
  {
   "cell_type": "code",
   "execution_count": 112,
   "metadata": {},
   "outputs": [
    {
     "data": {
      "text/html": [
       "<div>\n",
       "<style scoped>\n",
       "    .dataframe tbody tr th:only-of-type {\n",
       "        vertical-align: middle;\n",
       "    }\n",
       "\n",
       "    .dataframe tbody tr th {\n",
       "        vertical-align: top;\n",
       "    }\n",
       "\n",
       "    .dataframe thead th {\n",
       "        text-align: right;\n",
       "    }\n",
       "</style>\n",
       "<table border=\"1\" class=\"dataframe\">\n",
       "  <thead>\n",
       "    <tr style=\"text-align: right;\">\n",
       "      <th></th>\n",
       "      <th>max_temp_C</th>\n",
       "      <th>min_temp_C</th>\n",
       "      <th>avg_temp_C</th>\n",
       "      <th>total_snow_cm</th>\n",
       "      <th>sun_hour</th>\n",
       "      <th>uv_index</th>\n",
       "      <th>arr_wind_chill_C</th>\n",
       "      <th>arr_wind_gust_Kmph</th>\n",
       "      <th>arr_cloud_cover</th>\n",
       "      <th>arr_precip_MM</th>\n",
       "      <th>arr_pressure</th>\n",
       "      <th>arr_temp_C</th>\n",
       "      <th>arr_time</th>\n",
       "      <th>arr_uv_index</th>\n",
       "      <th>arr_visibility</th>\n",
       "      <th>arr_weather_code</th>\n",
       "      <th>arr_wind_dir_16Point</th>\n",
       "      <th>arr_wind_dir_degree</th>\n",
       "      <th>arr_wind_speed_Kmph</th>\n",
       "      <th>arr_weather_type</th>\n",
       "    </tr>\n",
       "  </thead>\n",
       "  <tbody>\n",
       "    <tr>\n",
       "      <th>0</th>\n",
       "      <td>31</td>\n",
       "      <td>22</td>\n",
       "      <td>27</td>\n",
       "      <td>0.0</td>\n",
       "      <td>11.6</td>\n",
       "      <td>7</td>\n",
       "      <td>26</td>\n",
       "      <td>5</td>\n",
       "      <td>8</td>\n",
       "      <td>2.4</td>\n",
       "      <td>1017</td>\n",
       "      <td>26</td>\n",
       "      <td>1800</td>\n",
       "      <td>1</td>\n",
       "      <td>9</td>\n",
       "      <td>176</td>\n",
       "      <td>SSW</td>\n",
       "      <td>194</td>\n",
       "      <td>2</td>\n",
       "      <td>4</td>\n",
       "    </tr>\n",
       "    <tr>\n",
       "      <th>1</th>\n",
       "      <td>25</td>\n",
       "      <td>19</td>\n",
       "      <td>23</td>\n",
       "      <td>0.0</td>\n",
       "      <td>11.6</td>\n",
       "      <td>6</td>\n",
       "      <td>23</td>\n",
       "      <td>9</td>\n",
       "      <td>3</td>\n",
       "      <td>0.0</td>\n",
       "      <td>1012</td>\n",
       "      <td>23</td>\n",
       "      <td>1800</td>\n",
       "      <td>1</td>\n",
       "      <td>10</td>\n",
       "      <td>113</td>\n",
       "      <td>WSW</td>\n",
       "      <td>238</td>\n",
       "      <td>8</td>\n",
       "      <td>21</td>\n",
       "    </tr>\n",
       "    <tr>\n",
       "      <th>2</th>\n",
       "      <td>22</td>\n",
       "      <td>15</td>\n",
       "      <td>19</td>\n",
       "      <td>0.0</td>\n",
       "      <td>8.7</td>\n",
       "      <td>5</td>\n",
       "      <td>22</td>\n",
       "      <td>12</td>\n",
       "      <td>6</td>\n",
       "      <td>0.0</td>\n",
       "      <td>1018</td>\n",
       "      <td>22</td>\n",
       "      <td>1200</td>\n",
       "      <td>6</td>\n",
       "      <td>10</td>\n",
       "      <td>113</td>\n",
       "      <td>WNW</td>\n",
       "      <td>288</td>\n",
       "      <td>10</td>\n",
       "      <td>13</td>\n",
       "    </tr>\n",
       "    <tr>\n",
       "      <th>3</th>\n",
       "      <td>31</td>\n",
       "      <td>26</td>\n",
       "      <td>29</td>\n",
       "      <td>0.0</td>\n",
       "      <td>11.6</td>\n",
       "      <td>6</td>\n",
       "      <td>27</td>\n",
       "      <td>10</td>\n",
       "      <td>17</td>\n",
       "      <td>0.9</td>\n",
       "      <td>1015</td>\n",
       "      <td>27</td>\n",
       "      <td>0</td>\n",
       "      <td>1</td>\n",
       "      <td>9</td>\n",
       "      <td>176</td>\n",
       "      <td>SE</td>\n",
       "      <td>138</td>\n",
       "      <td>6</td>\n",
       "      <td>4</td>\n",
       "    </tr>\n",
       "    <tr>\n",
       "      <th>4</th>\n",
       "      <td>18</td>\n",
       "      <td>7</td>\n",
       "      <td>14</td>\n",
       "      <td>0.0</td>\n",
       "      <td>11.6</td>\n",
       "      <td>4</td>\n",
       "      <td>14</td>\n",
       "      <td>7</td>\n",
       "      <td>19</td>\n",
       "      <td>0.0</td>\n",
       "      <td>1018</td>\n",
       "      <td>13</td>\n",
       "      <td>900</td>\n",
       "      <td>4</td>\n",
       "      <td>10</td>\n",
       "      <td>113</td>\n",
       "      <td>SE</td>\n",
       "      <td>143</td>\n",
       "      <td>6</td>\n",
       "      <td>13</td>\n",
       "    </tr>\n",
       "  </tbody>\n",
       "</table>\n",
       "</div>"
      ],
      "text/plain": [
       "   max_temp_C  min_temp_C  avg_temp_C  total_snow_cm  sun_hour  uv_index  \\\n",
       "0          31          22          27            0.0      11.6         7   \n",
       "1          25          19          23            0.0      11.6         6   \n",
       "2          22          15          19            0.0       8.7         5   \n",
       "3          31          26          29            0.0      11.6         6   \n",
       "4          18           7          14            0.0      11.6         4   \n",
       "\n",
       "   arr_wind_chill_C  arr_wind_gust_Kmph  arr_cloud_cover  arr_precip_MM  \\\n",
       "0                26                   5                8            2.4   \n",
       "1                23                   9                3            0.0   \n",
       "2                22                  12                6            0.0   \n",
       "3                27                  10               17            0.9   \n",
       "4                14                   7               19            0.0   \n",
       "\n",
       "   arr_pressure  arr_temp_C  arr_time  arr_uv_index  arr_visibility  \\\n",
       "0          1017          26      1800             1               9   \n",
       "1          1012          23      1800             1              10   \n",
       "2          1018          22      1200             6              10   \n",
       "3          1015          27         0             1               9   \n",
       "4          1018          13       900             4              10   \n",
       "\n",
       "   arr_weather_code arr_wind_dir_16Point  arr_wind_dir_degree  \\\n",
       "0               176                  SSW                  194   \n",
       "1               113                  WSW                  238   \n",
       "2               113                  WNW                  288   \n",
       "3               176                   SE                  138   \n",
       "4               113                   SE                  143   \n",
       "\n",
       "   arr_wind_speed_Kmph  arr_weather_type  \n",
       "0                    2                 4  \n",
       "1                    8                21  \n",
       "2                   10                13  \n",
       "3                    6                 4  \n",
       "4                    6                13  "
      ]
     },
     "execution_count": 112,
     "metadata": {},
     "output_type": "execute_result"
    }
   ],
   "source": [
    "df_weather['arr_weather_type'] = df_weather['arr_weather_type'].map(weather_type_code_map)\n",
    "df_weather.head()"
   ]
  },
  {
   "cell_type": "code",
   "execution_count": 116,
   "metadata": {},
   "outputs": [
    {
     "data": {
      "text/html": [
       "<div>\n",
       "<style scoped>\n",
       "    .dataframe tbody tr th:only-of-type {\n",
       "        vertical-align: middle;\n",
       "    }\n",
       "\n",
       "    .dataframe tbody tr th {\n",
       "        vertical-align: top;\n",
       "    }\n",
       "\n",
       "    .dataframe thead th {\n",
       "        text-align: right;\n",
       "    }\n",
       "</style>\n",
       "<table border=\"1\" class=\"dataframe\">\n",
       "  <thead>\n",
       "    <tr style=\"text-align: right;\">\n",
       "      <th></th>\n",
       "      <th>max_temp_C</th>\n",
       "      <th>min_temp_C</th>\n",
       "      <th>avg_temp_C</th>\n",
       "      <th>total_snow_cm</th>\n",
       "      <th>sun_hour</th>\n",
       "      <th>uv_index</th>\n",
       "      <th>arr_wind_chill_C</th>\n",
       "      <th>arr_wind_gust_Kmph</th>\n",
       "      <th>arr_cloud_cover</th>\n",
       "      <th>arr_precip_MM</th>\n",
       "      <th>arr_pressure</th>\n",
       "      <th>arr_temp_C</th>\n",
       "      <th>arr_time</th>\n",
       "      <th>arr_uv_index</th>\n",
       "      <th>arr_visibility</th>\n",
       "      <th>arr_weather_code</th>\n",
       "      <th>arr_wind_dir_degree</th>\n",
       "      <th>arr_wind_speed_Kmph</th>\n",
       "      <th>arr_weather_type</th>\n",
       "    </tr>\n",
       "  </thead>\n",
       "  <tbody>\n",
       "    <tr>\n",
       "      <th>0</th>\n",
       "      <td>31</td>\n",
       "      <td>22</td>\n",
       "      <td>27</td>\n",
       "      <td>0.0</td>\n",
       "      <td>11.6</td>\n",
       "      <td>7</td>\n",
       "      <td>26</td>\n",
       "      <td>5</td>\n",
       "      <td>8</td>\n",
       "      <td>2.4</td>\n",
       "      <td>1017</td>\n",
       "      <td>26</td>\n",
       "      <td>1800</td>\n",
       "      <td>1</td>\n",
       "      <td>9</td>\n",
       "      <td>176</td>\n",
       "      <td>194</td>\n",
       "      <td>2</td>\n",
       "      <td>4</td>\n",
       "    </tr>\n",
       "    <tr>\n",
       "      <th>2</th>\n",
       "      <td>22</td>\n",
       "      <td>15</td>\n",
       "      <td>19</td>\n",
       "      <td>0.0</td>\n",
       "      <td>8.7</td>\n",
       "      <td>5</td>\n",
       "      <td>22</td>\n",
       "      <td>12</td>\n",
       "      <td>6</td>\n",
       "      <td>0.0</td>\n",
       "      <td>1018</td>\n",
       "      <td>22</td>\n",
       "      <td>1200</td>\n",
       "      <td>6</td>\n",
       "      <td>10</td>\n",
       "      <td>113</td>\n",
       "      <td>288</td>\n",
       "      <td>10</td>\n",
       "      <td>13</td>\n",
       "    </tr>\n",
       "    <tr>\n",
       "      <th>3</th>\n",
       "      <td>31</td>\n",
       "      <td>26</td>\n",
       "      <td>29</td>\n",
       "      <td>0.0</td>\n",
       "      <td>11.6</td>\n",
       "      <td>6</td>\n",
       "      <td>27</td>\n",
       "      <td>10</td>\n",
       "      <td>17</td>\n",
       "      <td>0.9</td>\n",
       "      <td>1015</td>\n",
       "      <td>27</td>\n",
       "      <td>0</td>\n",
       "      <td>1</td>\n",
       "      <td>9</td>\n",
       "      <td>176</td>\n",
       "      <td>138</td>\n",
       "      <td>6</td>\n",
       "      <td>4</td>\n",
       "    </tr>\n",
       "    <tr>\n",
       "      <th>4</th>\n",
       "      <td>18</td>\n",
       "      <td>7</td>\n",
       "      <td>14</td>\n",
       "      <td>0.0</td>\n",
       "      <td>11.6</td>\n",
       "      <td>4</td>\n",
       "      <td>14</td>\n",
       "      <td>7</td>\n",
       "      <td>19</td>\n",
       "      <td>0.0</td>\n",
       "      <td>1018</td>\n",
       "      <td>13</td>\n",
       "      <td>900</td>\n",
       "      <td>4</td>\n",
       "      <td>10</td>\n",
       "      <td>113</td>\n",
       "      <td>143</td>\n",
       "      <td>6</td>\n",
       "      <td>13</td>\n",
       "    </tr>\n",
       "    <tr>\n",
       "      <th>5</th>\n",
       "      <td>20</td>\n",
       "      <td>17</td>\n",
       "      <td>18</td>\n",
       "      <td>0.0</td>\n",
       "      <td>5.7</td>\n",
       "      <td>4</td>\n",
       "      <td>17</td>\n",
       "      <td>19</td>\n",
       "      <td>100</td>\n",
       "      <td>0.1</td>\n",
       "      <td>1020</td>\n",
       "      <td>17</td>\n",
       "      <td>900</td>\n",
       "      <td>4</td>\n",
       "      <td>10</td>\n",
       "      <td>122</td>\n",
       "      <td>26</td>\n",
       "      <td>14</td>\n",
       "      <td>0</td>\n",
       "    </tr>\n",
       "  </tbody>\n",
       "</table>\n",
       "</div>"
      ],
      "text/plain": [
       "   max_temp_C  min_temp_C  avg_temp_C  total_snow_cm  sun_hour  uv_index  \\\n",
       "0          31          22          27            0.0      11.6         7   \n",
       "2          22          15          19            0.0       8.7         5   \n",
       "3          31          26          29            0.0      11.6         6   \n",
       "4          18           7          14            0.0      11.6         4   \n",
       "5          20          17          18            0.0       5.7         4   \n",
       "\n",
       "   arr_wind_chill_C  arr_wind_gust_Kmph  arr_cloud_cover  arr_precip_MM  \\\n",
       "0                26                   5                8            2.4   \n",
       "2                22                  12                6            0.0   \n",
       "3                27                  10               17            0.9   \n",
       "4                14                   7               19            0.0   \n",
       "5                17                  19              100            0.1   \n",
       "\n",
       "   arr_pressure  arr_temp_C  arr_time  arr_uv_index  arr_visibility  \\\n",
       "0          1017          26      1800             1               9   \n",
       "2          1018          22      1200             6              10   \n",
       "3          1015          27         0             1               9   \n",
       "4          1018          13       900             4              10   \n",
       "5          1020          17       900             4              10   \n",
       "\n",
       "   arr_weather_code  arr_wind_dir_degree  arr_wind_speed_Kmph  \\\n",
       "0               176                  194                    2   \n",
       "2               113                  288                   10   \n",
       "3               176                  138                    6   \n",
       "4               113                  143                    6   \n",
       "5               122                   26                   14   \n",
       "\n",
       "   arr_weather_type  \n",
       "0                 4  \n",
       "2                13  \n",
       "3                 4  \n",
       "4                13  \n",
       "5                 0  "
      ]
     },
     "execution_count": 116,
     "metadata": {},
     "output_type": "execute_result"
    }
   ],
   "source": [
    "df_weather.drop(columns=['arr_wind_dir_16Point'], index=1, inplace=True)\n",
    "df_weather.head()"
   ]
  },
  {
   "attachments": {},
   "cell_type": "markdown",
   "metadata": {},
   "source": [
    "Drop the cheater-pants variables:"
   ]
  },
  {
   "cell_type": "code",
   "execution_count": 70,
   "metadata": {},
   "outputs": [],
   "source": [
    "day_of_delays = [\n",
    "    'carrier_delay',\n",
    "    'weather_delay',\n",
    "    'nas_delay',\n",
    "    'security_delay',\n",
    "    'crs_elapsed_time',\n",
    "    'late_aircraft_delay',\n",
    "    'dep_delay'\n",
    "]\n",
    "\n",
    "df.drop(columns = day_of_delays, axis = 1, inplace = True)"
   ]
  },
  {
   "attachments": {},
   "cell_type": "markdown",
   "metadata": {},
   "source": [
    "Assign the `target` variable `arr_time` to `y`"
   ]
  },
  {
   "cell_type": "code",
   "execution_count": 71,
   "metadata": {},
   "outputs": [
    {
     "data": {
      "text/html": [
       "<div>\n",
       "<style scoped>\n",
       "    .dataframe tbody tr th:only-of-type {\n",
       "        vertical-align: middle;\n",
       "    }\n",
       "\n",
       "    .dataframe tbody tr th {\n",
       "        vertical-align: top;\n",
       "    }\n",
       "\n",
       "    .dataframe thead th {\n",
       "        text-align: right;\n",
       "    }\n",
       "</style>\n",
       "<table border=\"1\" class=\"dataframe\">\n",
       "  <thead>\n",
       "    <tr style=\"text-align: right;\">\n",
       "      <th></th>\n",
       "      <th>fl_date</th>\n",
       "      <th>origin</th>\n",
       "      <th>dest</th>\n",
       "      <th>crs_dep_time</th>\n",
       "      <th>dep_time</th>\n",
       "      <th>crs_arr_time</th>\n",
       "      <th>arr_time</th>\n",
       "      <th>air_time</th>\n",
       "      <th>distance</th>\n",
       "      <th>first_dep_time</th>\n",
       "      <th>year</th>\n",
       "      <th>month</th>\n",
       "      <th>day_of_wk</th>\n",
       "    </tr>\n",
       "  </thead>\n",
       "  <tbody>\n",
       "    <tr>\n",
       "      <th>0</th>\n",
       "      <td>2018-10-05</td>\n",
       "      <td>237</td>\n",
       "      <td>248</td>\n",
       "      <td>1655</td>\n",
       "      <td>1655.0</td>\n",
       "      <td>1825</td>\n",
       "      <td>1806.0</td>\n",
       "      <td>110.0</td>\n",
       "      <td>764</td>\n",
       "      <td>NaN</td>\n",
       "      <td>2018</td>\n",
       "      <td>10</td>\n",
       "      <td>4</td>\n",
       "    </tr>\n",
       "    <tr>\n",
       "      <th>1</th>\n",
       "      <td>2018-10-05</td>\n",
       "      <td>304</td>\n",
       "      <td>15</td>\n",
       "      <td>1510</td>\n",
       "      <td>1522.0</td>\n",
       "      <td>1740</td>\n",
       "      <td>1742.0</td>\n",
       "      <td>242.0</td>\n",
       "      <td>1750</td>\n",
       "      <td>NaN</td>\n",
       "      <td>2018</td>\n",
       "      <td>10</td>\n",
       "      <td>4</td>\n",
       "    </tr>\n",
       "    <tr>\n",
       "      <th>2</th>\n",
       "      <td>2018-10-05</td>\n",
       "      <td>290</td>\n",
       "      <td>71</td>\n",
       "      <td>1135</td>\n",
       "      <td>1130.0</td>\n",
       "      <td>1315</td>\n",
       "      <td>1254.0</td>\n",
       "      <td>73.0</td>\n",
       "      <td>543</td>\n",
       "      <td>NaN</td>\n",
       "      <td>2018</td>\n",
       "      <td>10</td>\n",
       "      <td>4</td>\n",
       "    </tr>\n",
       "    <tr>\n",
       "      <th>3</th>\n",
       "      <td>2018-10-05</td>\n",
       "      <td>329</td>\n",
       "      <td>34</td>\n",
       "      <td>1830</td>\n",
       "      <td>1854.0</td>\n",
       "      <td>2255</td>\n",
       "      <td>2318.0</td>\n",
       "      <td>130.0</td>\n",
       "      <td>1020</td>\n",
       "      <td>NaN</td>\n",
       "      <td>2018</td>\n",
       "      <td>10</td>\n",
       "      <td>4</td>\n",
       "    </tr>\n",
       "    <tr>\n",
       "      <th>4</th>\n",
       "      <td>2018-10-05</td>\n",
       "      <td>329</td>\n",
       "      <td>152</td>\n",
       "      <td>825</td>\n",
       "      <td>857.0</td>\n",
       "      <td>1015</td>\n",
       "      <td>1039.0</td>\n",
       "      <td>84.0</td>\n",
       "      <td>601</td>\n",
       "      <td>NaN</td>\n",
       "      <td>2018</td>\n",
       "      <td>10</td>\n",
       "      <td>4</td>\n",
       "    </tr>\n",
       "  </tbody>\n",
       "</table>\n",
       "</div>"
      ],
      "text/plain": [
       "      fl_date  origin  dest  crs_dep_time  dep_time  crs_arr_time  arr_time  \\\n",
       "0  2018-10-05     237   248          1655    1655.0          1825    1806.0   \n",
       "1  2018-10-05     304    15          1510    1522.0          1740    1742.0   \n",
       "2  2018-10-05     290    71          1135    1130.0          1315    1254.0   \n",
       "3  2018-10-05     329    34          1830    1854.0          2255    2318.0   \n",
       "4  2018-10-05     329   152           825     857.0          1015    1039.0   \n",
       "\n",
       "   air_time  distance  first_dep_time  year  month  day_of_wk  \n",
       "0     110.0       764             NaN  2018     10          4  \n",
       "1     242.0      1750             NaN  2018     10          4  \n",
       "2      73.0       543             NaN  2018     10          4  \n",
       "3     130.0      1020             NaN  2018     10          4  \n",
       "4      84.0       601             NaN  2018     10          4  "
      ]
     },
     "execution_count": 71,
     "metadata": {},
     "output_type": "execute_result"
    }
   ],
   "source": [
    "# Assign target variable\n",
    "y = df.arr_delay\n",
    "\n",
    "# Then drop it from the table:\n",
    "df.drop(['arr_delay'], axis= 1, inplace= True)\n",
    "df.head()"
   ]
  },
  {
   "cell_type": "code",
   "execution_count": 72,
   "metadata": {},
   "outputs": [
    {
     "data": {
      "text/html": [
       "<div>\n",
       "<style scoped>\n",
       "    .dataframe tbody tr th:only-of-type {\n",
       "        vertical-align: middle;\n",
       "    }\n",
       "\n",
       "    .dataframe tbody tr th {\n",
       "        vertical-align: top;\n",
       "    }\n",
       "\n",
       "    .dataframe thead th {\n",
       "        text-align: right;\n",
       "    }\n",
       "</style>\n",
       "<table border=\"1\" class=\"dataframe\">\n",
       "  <thead>\n",
       "    <tr style=\"text-align: right;\">\n",
       "      <th></th>\n",
       "      <th>origin</th>\n",
       "      <th>dest</th>\n",
       "      <th>crs_dep_time</th>\n",
       "      <th>dep_time</th>\n",
       "      <th>crs_arr_time</th>\n",
       "      <th>arr_time</th>\n",
       "      <th>air_time</th>\n",
       "      <th>distance</th>\n",
       "      <th>first_dep_time</th>\n",
       "      <th>year</th>\n",
       "      <th>month</th>\n",
       "      <th>day_of_wk</th>\n",
       "    </tr>\n",
       "  </thead>\n",
       "  <tbody>\n",
       "    <tr>\n",
       "      <th>0</th>\n",
       "      <td>237</td>\n",
       "      <td>248</td>\n",
       "      <td>1655</td>\n",
       "      <td>1655.0</td>\n",
       "      <td>1825</td>\n",
       "      <td>1806.0</td>\n",
       "      <td>110.0</td>\n",
       "      <td>764</td>\n",
       "      <td>NaN</td>\n",
       "      <td>2018</td>\n",
       "      <td>10</td>\n",
       "      <td>4</td>\n",
       "    </tr>\n",
       "    <tr>\n",
       "      <th>1</th>\n",
       "      <td>304</td>\n",
       "      <td>15</td>\n",
       "      <td>1510</td>\n",
       "      <td>1522.0</td>\n",
       "      <td>1740</td>\n",
       "      <td>1742.0</td>\n",
       "      <td>242.0</td>\n",
       "      <td>1750</td>\n",
       "      <td>NaN</td>\n",
       "      <td>2018</td>\n",
       "      <td>10</td>\n",
       "      <td>4</td>\n",
       "    </tr>\n",
       "    <tr>\n",
       "      <th>2</th>\n",
       "      <td>290</td>\n",
       "      <td>71</td>\n",
       "      <td>1135</td>\n",
       "      <td>1130.0</td>\n",
       "      <td>1315</td>\n",
       "      <td>1254.0</td>\n",
       "      <td>73.0</td>\n",
       "      <td>543</td>\n",
       "      <td>NaN</td>\n",
       "      <td>2018</td>\n",
       "      <td>10</td>\n",
       "      <td>4</td>\n",
       "    </tr>\n",
       "    <tr>\n",
       "      <th>3</th>\n",
       "      <td>329</td>\n",
       "      <td>34</td>\n",
       "      <td>1830</td>\n",
       "      <td>1854.0</td>\n",
       "      <td>2255</td>\n",
       "      <td>2318.0</td>\n",
       "      <td>130.0</td>\n",
       "      <td>1020</td>\n",
       "      <td>NaN</td>\n",
       "      <td>2018</td>\n",
       "      <td>10</td>\n",
       "      <td>4</td>\n",
       "    </tr>\n",
       "    <tr>\n",
       "      <th>4</th>\n",
       "      <td>329</td>\n",
       "      <td>152</td>\n",
       "      <td>825</td>\n",
       "      <td>857.0</td>\n",
       "      <td>1015</td>\n",
       "      <td>1039.0</td>\n",
       "      <td>84.0</td>\n",
       "      <td>601</td>\n",
       "      <td>NaN</td>\n",
       "      <td>2018</td>\n",
       "      <td>10</td>\n",
       "      <td>4</td>\n",
       "    </tr>\n",
       "  </tbody>\n",
       "</table>\n",
       "</div>"
      ],
      "text/plain": [
       "   origin  dest  crs_dep_time  dep_time  crs_arr_time  arr_time  air_time  \\\n",
       "0     237   248          1655    1655.0          1825    1806.0     110.0   \n",
       "1     304    15          1510    1522.0          1740    1742.0     242.0   \n",
       "2     290    71          1135    1130.0          1315    1254.0      73.0   \n",
       "3     329    34          1830    1854.0          2255    2318.0     130.0   \n",
       "4     329   152           825     857.0          1015    1039.0      84.0   \n",
       "\n",
       "   distance  first_dep_time  year  month  day_of_wk  \n",
       "0       764             NaN  2018     10          4  \n",
       "1      1750             NaN  2018     10          4  \n",
       "2       543             NaN  2018     10          4  \n",
       "3      1020             NaN  2018     10          4  \n",
       "4       601             NaN  2018     10          4  "
      ]
     },
     "execution_count": 72,
     "metadata": {},
     "output_type": "execute_result"
    }
   ],
   "source": [
    "df.drop(['fl_date'], axis= 1, inplace= True)\n",
    "df.head()"
   ]
  },
  {
   "cell_type": "code",
   "execution_count": 73,
   "metadata": {},
   "outputs": [
    {
     "data": {
      "text/plain": [
       "origin                0\n",
       "dest                  0\n",
       "crs_dep_time          0\n",
       "dep_time              0\n",
       "crs_arr_time          0\n",
       "arr_time              0\n",
       "air_time             37\n",
       "distance              0\n",
       "first_dep_time    88393\n",
       "year                  0\n",
       "month                 0\n",
       "day_of_wk             0\n",
       "dtype: int64"
      ]
     },
     "execution_count": 73,
     "metadata": {},
     "output_type": "execute_result"
    }
   ],
   "source": [
    "df.isna().sum()"
   ]
  },
  {
   "cell_type": "markdown",
   "metadata": {},
   "source": [
    "### Feature Engineering"
   ]
  },
  {
   "cell_type": "markdown",
   "metadata": {},
   "source": [
    "Feature engineering will play a crucial role in this problems. We have only very little attributes so we need to create some features that will have some predictive power.\n",
    "\n",
    "- weather: we can use some weather API to look for the weather in time of the scheduled departure and scheduled arrival.\n",
    "- statistics (avg, mean, median, std, min, max...): we can take a look at previous delays and compute descriptive statistics\n",
    "- airports encoding: we need to think about what to do with the airports and other categorical variables\n",
    "- time of the day: the delay probably depends on the airport traffic which varies during the day.\n",
    "- airport traffic\n",
    "- unsupervised learning as feature engineering?\n",
    "- **what are the additional options?**: Think about what we could do more to improve the model."
   ]
  },
  {
   "cell_type": "code",
   "execution_count": null,
   "metadata": {},
   "outputs": [],
   "source": []
  },
  {
   "cell_type": "code",
   "execution_count": null,
   "metadata": {},
   "outputs": [],
   "source": []
  },
  {
   "cell_type": "code",
   "execution_count": null,
   "metadata": {},
   "outputs": [],
   "source": []
  },
  {
   "cell_type": "code",
   "execution_count": null,
   "metadata": {},
   "outputs": [],
   "source": []
  },
  {
   "cell_type": "code",
   "execution_count": null,
   "metadata": {},
   "outputs": [],
   "source": []
  },
  {
   "cell_type": "markdown",
   "metadata": {},
   "source": [
    "### Feature Selection / Dimensionality Reduction"
   ]
  },
  {
   "cell_type": "markdown",
   "metadata": {},
   "source": [
    "We need to apply different selection techniques to find out which one will be the best for our problems.\n",
    "\n",
    "- Original Features vs. PCA conponents?"
   ]
  },
  {
   "cell_type": "code",
   "execution_count": null,
   "metadata": {},
   "outputs": [],
   "source": []
  },
  {
   "attachments": {},
   "cell_type": "markdown",
   "metadata": {},
   "source": [
    "##### REMOVING FEATURES WITH SMALL VARIANCE \n",
    "\n",
    "Removing columns with little variance which would have small predictive power.\n"
   ]
  },
  {
   "attachments": {},
   "cell_type": "markdown",
   "metadata": {},
   "source": [
    "(_Referenced: [W5Em13_Variable_selection](../../../../Documents/LHL%20DS%20Bootcamp/Course%20work/W5/W5Em13_Variable_selection.ipynb)_)"
   ]
  },
  {
   "cell_type": "code",
   "execution_count": 74,
   "metadata": {},
   "outputs": [],
   "source": [
    "import sklearn\n",
    "from sklearn.feature_selection import VarianceThreshold\n",
    "\n",
    "vt = VarianceThreshold(0.1)\n",
    "df_transformed = vt.fit_transform(df)"
   ]
  },
  {
   "attachments": {},
   "cell_type": "markdown",
   "metadata": {},
   "source": [
    "to see how many columns were dropped:"
   ]
  },
  {
   "cell_type": "code",
   "execution_count": 75,
   "metadata": {},
   "outputs": [
    {
     "name": "stdout",
     "output_type": "stream",
     "text": [
      "(88525, 12)\n",
      "(88525, 12)\n"
     ]
    }
   ],
   "source": [
    "print(df.shape)\n",
    "print(df_transformed.shape)"
   ]
  },
  {
   "cell_type": "code",
   "execution_count": 76,
   "metadata": {},
   "outputs": [
    {
     "name": "stdout",
     "output_type": "stream",
     "text": [
      "Index(['origin', 'dest', 'crs_dep_time', 'dep_time', 'crs_arr_time',\n",
      "       'arr_time', 'air_time', 'distance', 'first_dep_time', 'year', 'month',\n",
      "       'day_of_wk'],\n",
      "      dtype='object')\n"
     ]
    },
    {
     "data": {
      "text/html": [
       "<div>\n",
       "<style scoped>\n",
       "    .dataframe tbody tr th:only-of-type {\n",
       "        vertical-align: middle;\n",
       "    }\n",
       "\n",
       "    .dataframe tbody tr th {\n",
       "        vertical-align: top;\n",
       "    }\n",
       "\n",
       "    .dataframe thead th {\n",
       "        text-align: right;\n",
       "    }\n",
       "</style>\n",
       "<table border=\"1\" class=\"dataframe\">\n",
       "  <thead>\n",
       "    <tr style=\"text-align: right;\">\n",
       "      <th></th>\n",
       "      <th>origin</th>\n",
       "      <th>dest</th>\n",
       "      <th>crs_dep_time</th>\n",
       "      <th>dep_time</th>\n",
       "      <th>crs_arr_time</th>\n",
       "      <th>arr_time</th>\n",
       "      <th>air_time</th>\n",
       "      <th>distance</th>\n",
       "      <th>first_dep_time</th>\n",
       "      <th>year</th>\n",
       "      <th>month</th>\n",
       "      <th>day_of_wk</th>\n",
       "    </tr>\n",
       "  </thead>\n",
       "  <tbody>\n",
       "    <tr>\n",
       "      <th>0</th>\n",
       "      <td>237.0</td>\n",
       "      <td>248.0</td>\n",
       "      <td>1655.0</td>\n",
       "      <td>1655.0</td>\n",
       "      <td>1825.0</td>\n",
       "      <td>1806.0</td>\n",
       "      <td>110.0</td>\n",
       "      <td>764.0</td>\n",
       "      <td>NaN</td>\n",
       "      <td>2018.0</td>\n",
       "      <td>10.0</td>\n",
       "      <td>4.0</td>\n",
       "    </tr>\n",
       "    <tr>\n",
       "      <th>1</th>\n",
       "      <td>304.0</td>\n",
       "      <td>15.0</td>\n",
       "      <td>1510.0</td>\n",
       "      <td>1522.0</td>\n",
       "      <td>1740.0</td>\n",
       "      <td>1742.0</td>\n",
       "      <td>242.0</td>\n",
       "      <td>1750.0</td>\n",
       "      <td>NaN</td>\n",
       "      <td>2018.0</td>\n",
       "      <td>10.0</td>\n",
       "      <td>4.0</td>\n",
       "    </tr>\n",
       "    <tr>\n",
       "      <th>2</th>\n",
       "      <td>290.0</td>\n",
       "      <td>71.0</td>\n",
       "      <td>1135.0</td>\n",
       "      <td>1130.0</td>\n",
       "      <td>1315.0</td>\n",
       "      <td>1254.0</td>\n",
       "      <td>73.0</td>\n",
       "      <td>543.0</td>\n",
       "      <td>NaN</td>\n",
       "      <td>2018.0</td>\n",
       "      <td>10.0</td>\n",
       "      <td>4.0</td>\n",
       "    </tr>\n",
       "    <tr>\n",
       "      <th>3</th>\n",
       "      <td>329.0</td>\n",
       "      <td>34.0</td>\n",
       "      <td>1830.0</td>\n",
       "      <td>1854.0</td>\n",
       "      <td>2255.0</td>\n",
       "      <td>2318.0</td>\n",
       "      <td>130.0</td>\n",
       "      <td>1020.0</td>\n",
       "      <td>NaN</td>\n",
       "      <td>2018.0</td>\n",
       "      <td>10.0</td>\n",
       "      <td>4.0</td>\n",
       "    </tr>\n",
       "    <tr>\n",
       "      <th>4</th>\n",
       "      <td>329.0</td>\n",
       "      <td>152.0</td>\n",
       "      <td>825.0</td>\n",
       "      <td>857.0</td>\n",
       "      <td>1015.0</td>\n",
       "      <td>1039.0</td>\n",
       "      <td>84.0</td>\n",
       "      <td>601.0</td>\n",
       "      <td>NaN</td>\n",
       "      <td>2018.0</td>\n",
       "      <td>10.0</td>\n",
       "      <td>4.0</td>\n",
       "    </tr>\n",
       "  </tbody>\n",
       "</table>\n",
       "</div>"
      ],
      "text/plain": [
       "   origin   dest  crs_dep_time  dep_time  crs_arr_time  arr_time  air_time  \\\n",
       "0   237.0  248.0        1655.0    1655.0        1825.0    1806.0     110.0   \n",
       "1   304.0   15.0        1510.0    1522.0        1740.0    1742.0     242.0   \n",
       "2   290.0   71.0        1135.0    1130.0        1315.0    1254.0      73.0   \n",
       "3   329.0   34.0        1830.0    1854.0        2255.0    2318.0     130.0   \n",
       "4   329.0  152.0         825.0     857.0        1015.0    1039.0      84.0   \n",
       "\n",
       "   distance  first_dep_time    year  month  day_of_wk  \n",
       "0     764.0             NaN  2018.0   10.0        4.0  \n",
       "1    1750.0             NaN  2018.0   10.0        4.0  \n",
       "2     543.0             NaN  2018.0   10.0        4.0  \n",
       "3    1020.0             NaN  2018.0   10.0        4.0  \n",
       "4     601.0             NaN  2018.0   10.0        4.0  "
      ]
     },
     "execution_count": 76,
     "metadata": {},
     "output_type": "execute_result"
    }
   ],
   "source": [
    "# columns we have selected\n",
    "# VarianceThreshold get_support() stores boolean of each variable in the np.array.\n",
    "selected_columns = df.columns[vt.get_support()]\n",
    "print(selected_columns)\n",
    "\n",
    "# transforming the np.array back to a DataFrame preserves column labels\n",
    "df_transformed = pd.DataFrame(df_transformed, columns = selected_columns)\n",
    "df_transformed.head()"
   ]
  },
  {
   "attachments": {},
   "cell_type": "markdown",
   "metadata": {},
   "source": [
    "##### REMOVING CORRELATED FEATURES:"
   ]
  },
  {
   "cell_type": "code",
   "execution_count": 77,
   "metadata": {},
   "outputs": [],
   "source": [
    "# STEP 1: Correlation matrix\n",
    "df_corr = df_transformed.corr().abs()"
   ]
  },
  {
   "attachments": {},
   "cell_type": "markdown",
   "metadata": {},
   "source": [
    "Using `0.8` as the correlation threshold:"
   ]
  },
  {
   "cell_type": "code",
   "execution_count": 78,
   "metadata": {},
   "outputs": [],
   "source": [
    "# STEP 2: find pairs of highly correlated features\n",
    "indices = np.where(df_corr > 0.8) \n",
    "indices = [(df_corr.index[x], df_corr.columns[y]) \n",
    "   for x, y in zip(*indices)\n",
    "      if x != y and x < y]"
   ]
  },
  {
   "attachments": {},
   "cell_type": "markdown",
   "metadata": {},
   "source": [
    "Using try-except logic to allows the code to continue in the event a `KeyError` occurs because a high correlation occurred more than once with the same feature."
   ]
  },
  {
   "cell_type": "code",
   "execution_count": 79,
   "metadata": {},
   "outputs": [],
   "source": [
    "# STEP 3: Removing the highly correlated columns\n",
    "for idx in indices: #each pair\n",
    "    try:\n",
    "        df_transformed.drop(idx[1], axis = 1, inplace=True)\n",
    "    except KeyError:\n",
    "        pass"
   ]
  },
  {
   "cell_type": "code",
   "execution_count": 80,
   "metadata": {},
   "outputs": [
    {
     "data": {
      "text/plain": [
       "[('crs_dep_time', 'dep_time'),\n",
       " ('crs_dep_time', 'first_dep_time'),\n",
       " ('dep_time', 'first_dep_time'),\n",
       " ('crs_arr_time', 'arr_time'),\n",
       " ('air_time', 'distance')]"
      ]
     },
     "execution_count": 80,
     "metadata": {},
     "output_type": "execute_result"
    }
   ],
   "source": [
    "# The correlated paris are:\n",
    "indices"
   ]
  },
  {
   "cell_type": "code",
   "execution_count": 81,
   "metadata": {},
   "outputs": [
    {
     "name": "stdout",
     "output_type": "stream",
     "text": [
      "(88525, 8)\n"
     ]
    },
    {
     "data": {
      "text/html": [
       "<div>\n",
       "<style scoped>\n",
       "    .dataframe tbody tr th:only-of-type {\n",
       "        vertical-align: middle;\n",
       "    }\n",
       "\n",
       "    .dataframe tbody tr th {\n",
       "        vertical-align: top;\n",
       "    }\n",
       "\n",
       "    .dataframe thead th {\n",
       "        text-align: right;\n",
       "    }\n",
       "</style>\n",
       "<table border=\"1\" class=\"dataframe\">\n",
       "  <thead>\n",
       "    <tr style=\"text-align: right;\">\n",
       "      <th></th>\n",
       "      <th>origin</th>\n",
       "      <th>dest</th>\n",
       "      <th>crs_dep_time</th>\n",
       "      <th>crs_arr_time</th>\n",
       "      <th>air_time</th>\n",
       "      <th>year</th>\n",
       "      <th>month</th>\n",
       "      <th>day_of_wk</th>\n",
       "    </tr>\n",
       "  </thead>\n",
       "  <tbody>\n",
       "    <tr>\n",
       "      <th>0</th>\n",
       "      <td>237.0</td>\n",
       "      <td>248.0</td>\n",
       "      <td>1655.0</td>\n",
       "      <td>1825.0</td>\n",
       "      <td>110.0</td>\n",
       "      <td>2018.0</td>\n",
       "      <td>10.0</td>\n",
       "      <td>4.0</td>\n",
       "    </tr>\n",
       "    <tr>\n",
       "      <th>1</th>\n",
       "      <td>304.0</td>\n",
       "      <td>15.0</td>\n",
       "      <td>1510.0</td>\n",
       "      <td>1740.0</td>\n",
       "      <td>242.0</td>\n",
       "      <td>2018.0</td>\n",
       "      <td>10.0</td>\n",
       "      <td>4.0</td>\n",
       "    </tr>\n",
       "    <tr>\n",
       "      <th>2</th>\n",
       "      <td>290.0</td>\n",
       "      <td>71.0</td>\n",
       "      <td>1135.0</td>\n",
       "      <td>1315.0</td>\n",
       "      <td>73.0</td>\n",
       "      <td>2018.0</td>\n",
       "      <td>10.0</td>\n",
       "      <td>4.0</td>\n",
       "    </tr>\n",
       "    <tr>\n",
       "      <th>3</th>\n",
       "      <td>329.0</td>\n",
       "      <td>34.0</td>\n",
       "      <td>1830.0</td>\n",
       "      <td>2255.0</td>\n",
       "      <td>130.0</td>\n",
       "      <td>2018.0</td>\n",
       "      <td>10.0</td>\n",
       "      <td>4.0</td>\n",
       "    </tr>\n",
       "    <tr>\n",
       "      <th>4</th>\n",
       "      <td>329.0</td>\n",
       "      <td>152.0</td>\n",
       "      <td>825.0</td>\n",
       "      <td>1015.0</td>\n",
       "      <td>84.0</td>\n",
       "      <td>2018.0</td>\n",
       "      <td>10.0</td>\n",
       "      <td>4.0</td>\n",
       "    </tr>\n",
       "  </tbody>\n",
       "</table>\n",
       "</div>"
      ],
      "text/plain": [
       "   origin   dest  crs_dep_time  crs_arr_time  air_time    year  month  \\\n",
       "0   237.0  248.0        1655.0        1825.0     110.0  2018.0   10.0   \n",
       "1   304.0   15.0        1510.0        1740.0     242.0  2018.0   10.0   \n",
       "2   290.0   71.0        1135.0        1315.0      73.0  2018.0   10.0   \n",
       "3   329.0   34.0        1830.0        2255.0     130.0  2018.0   10.0   \n",
       "4   329.0  152.0         825.0        1015.0      84.0  2018.0   10.0   \n",
       "\n",
       "   day_of_wk  \n",
       "0        4.0  \n",
       "1        4.0  \n",
       "2        4.0  \n",
       "3        4.0  \n",
       "4        4.0  "
      ]
     },
     "execution_count": 81,
     "metadata": {},
     "output_type": "execute_result"
    }
   ],
   "source": [
    "# Recheck shape of table:\n",
    "print(df_transformed.shape)\n",
    "df_transformed.head()"
   ]
  },
  {
   "cell_type": "code",
   "execution_count": null,
   "metadata": {},
   "outputs": [],
   "source": []
  },
  {
   "cell_type": "markdown",
   "metadata": {},
   "source": [
    "### Modeling"
   ]
  },
  {
   "cell_type": "markdown",
   "metadata": {},
   "source": [
    "Use different ML techniques to predict each problem.\n",
    "\n",
    "- linear / logistic / multinomial logistic regression\n",
    "- Naive Bayes\n",
    "- Random Forest\n",
    "- SVM\n",
    "- XGBoost\n",
    "- The ensemble of your own choice"
   ]
  },
  {
   "cell_type": "code",
   "execution_count": null,
   "metadata": {},
   "outputs": [],
   "source": []
  },
  {
   "attachments": {},
   "cell_type": "markdown",
   "metadata": {},
   "source": [
    "### LINEAR REGRESSION"
   ]
  },
  {
   "attachments": {},
   "cell_type": "markdown",
   "metadata": {},
   "source": [
    "(_Referenced: [W3D3L Statistical Modeling Demo](../../../../Documents/LHL%20DS%20Bootcamp/Course%20work/W3/W3D3L-Statistical_Modeling_Demo.ipynb)_)\n",
    "\n",
    " With `arr_delay` as our dependent variable ($y$) and `_____` and `_______` as our independent variables ($x_1$ and $x_2$). This multiple linear regression model uses the relationship:\n",
    "\n",
    "$$\n",
    "y=b_0 + b_1x_1 + b_2x_2\n",
    "$$\n",
    "\n",
    "> Note that if we want an intercept ($b_0$) in a `statsmodels OLS` model, we need to use the statsmodels's `add_constant` function, prior to fitting the model."
   ]
  },
  {
   "cell_type": "code",
   "execution_count": 82,
   "metadata": {},
   "outputs": [
    {
     "data": {
      "text/html": [
       "<div>\n",
       "<style scoped>\n",
       "    .dataframe tbody tr th:only-of-type {\n",
       "        vertical-align: middle;\n",
       "    }\n",
       "\n",
       "    .dataframe tbody tr th {\n",
       "        vertical-align: top;\n",
       "    }\n",
       "\n",
       "    .dataframe thead th {\n",
       "        text-align: right;\n",
       "    }\n",
       "</style>\n",
       "<table border=\"1\" class=\"dataframe\">\n",
       "  <thead>\n",
       "    <tr style=\"text-align: right;\">\n",
       "      <th></th>\n",
       "      <th>const</th>\n",
       "      <th>origin</th>\n",
       "      <th>dest</th>\n",
       "      <th>crs_dep_time</th>\n",
       "      <th>dep_time</th>\n",
       "      <th>crs_arr_time</th>\n",
       "      <th>arr_time</th>\n",
       "      <th>air_time</th>\n",
       "      <th>distance</th>\n",
       "      <th>first_dep_time</th>\n",
       "      <th>year</th>\n",
       "      <th>month</th>\n",
       "      <th>day_of_wk</th>\n",
       "    </tr>\n",
       "  </thead>\n",
       "  <tbody>\n",
       "    <tr>\n",
       "      <th>0</th>\n",
       "      <td>1.0</td>\n",
       "      <td>237</td>\n",
       "      <td>248</td>\n",
       "      <td>1655</td>\n",
       "      <td>1655.0</td>\n",
       "      <td>1825</td>\n",
       "      <td>1806.0</td>\n",
       "      <td>110.0</td>\n",
       "      <td>764</td>\n",
       "      <td>NaN</td>\n",
       "      <td>2018</td>\n",
       "      <td>10</td>\n",
       "      <td>4</td>\n",
       "    </tr>\n",
       "    <tr>\n",
       "      <th>1</th>\n",
       "      <td>1.0</td>\n",
       "      <td>304</td>\n",
       "      <td>15</td>\n",
       "      <td>1510</td>\n",
       "      <td>1522.0</td>\n",
       "      <td>1740</td>\n",
       "      <td>1742.0</td>\n",
       "      <td>242.0</td>\n",
       "      <td>1750</td>\n",
       "      <td>NaN</td>\n",
       "      <td>2018</td>\n",
       "      <td>10</td>\n",
       "      <td>4</td>\n",
       "    </tr>\n",
       "    <tr>\n",
       "      <th>2</th>\n",
       "      <td>1.0</td>\n",
       "      <td>290</td>\n",
       "      <td>71</td>\n",
       "      <td>1135</td>\n",
       "      <td>1130.0</td>\n",
       "      <td>1315</td>\n",
       "      <td>1254.0</td>\n",
       "      <td>73.0</td>\n",
       "      <td>543</td>\n",
       "      <td>NaN</td>\n",
       "      <td>2018</td>\n",
       "      <td>10</td>\n",
       "      <td>4</td>\n",
       "    </tr>\n",
       "    <tr>\n",
       "      <th>3</th>\n",
       "      <td>1.0</td>\n",
       "      <td>329</td>\n",
       "      <td>34</td>\n",
       "      <td>1830</td>\n",
       "      <td>1854.0</td>\n",
       "      <td>2255</td>\n",
       "      <td>2318.0</td>\n",
       "      <td>130.0</td>\n",
       "      <td>1020</td>\n",
       "      <td>NaN</td>\n",
       "      <td>2018</td>\n",
       "      <td>10</td>\n",
       "      <td>4</td>\n",
       "    </tr>\n",
       "    <tr>\n",
       "      <th>4</th>\n",
       "      <td>1.0</td>\n",
       "      <td>329</td>\n",
       "      <td>152</td>\n",
       "      <td>825</td>\n",
       "      <td>857.0</td>\n",
       "      <td>1015</td>\n",
       "      <td>1039.0</td>\n",
       "      <td>84.0</td>\n",
       "      <td>601</td>\n",
       "      <td>NaN</td>\n",
       "      <td>2018</td>\n",
       "      <td>10</td>\n",
       "      <td>4</td>\n",
       "    </tr>\n",
       "  </tbody>\n",
       "</table>\n",
       "</div>"
      ],
      "text/plain": [
       "   const  origin  dest  crs_dep_time  dep_time  crs_arr_time  arr_time  \\\n",
       "0    1.0     237   248          1655    1655.0          1825    1806.0   \n",
       "1    1.0     304    15          1510    1522.0          1740    1742.0   \n",
       "2    1.0     290    71          1135    1130.0          1315    1254.0   \n",
       "3    1.0     329    34          1830    1854.0          2255    2318.0   \n",
       "4    1.0     329   152           825     857.0          1015    1039.0   \n",
       "\n",
       "   air_time  distance  first_dep_time  year  month  day_of_wk  \n",
       "0     110.0       764             NaN  2018     10          4  \n",
       "1     242.0      1750             NaN  2018     10          4  \n",
       "2      73.0       543             NaN  2018     10          4  \n",
       "3     130.0      1020             NaN  2018     10          4  \n",
       "4      84.0       601             NaN  2018     10          4  "
      ]
     },
     "execution_count": 82,
     "metadata": {},
     "output_type": "execute_result"
    }
   ],
   "source": [
    "# Adds a column of 1's so the model will contain an intercept\n",
    "X = df.copy()\n",
    "X = sm.add_constant(X) \n",
    "X.head()"
   ]
  },
  {
   "cell_type": "code",
   "execution_count": 83,
   "metadata": {},
   "outputs": [],
   "source": [
    "X = X.fillna(0)"
   ]
  },
  {
   "cell_type": "code",
   "execution_count": 84,
   "metadata": {},
   "outputs": [
    {
     "name": "stdout",
     "output_type": "stream",
     "text": [
      "                            OLS Regression Results                            \n",
      "==============================================================================\n",
      "Dep. Variable:              arr_delay   R-squared:                       0.083\n",
      "Model:                            OLS   Adj. R-squared:                  0.083\n",
      "Method:                 Least Squares   F-statistic:                     671.0\n",
      "Date:                Fri, 13 Jan 2023   Prob (F-statistic):               0.00\n",
      "Time:                        11:24:14   Log-Likelihood:            -3.6136e+05\n",
      "No. Observations:               88525   AIC:                         7.228e+05\n",
      "Df Residuals:                   88512   BIC:                         7.229e+05\n",
      "Df Model:                          12                                         \n",
      "Covariance Type:            nonrobust                                         \n",
      "==================================================================================\n",
      "                     coef    std err          t      P>|t|      [0.025      0.975]\n",
      "----------------------------------------------------------------------------------\n",
      "const           1909.9275    194.850      9.802      0.000    1528.024    2291.831\n",
      "origin             0.0029      0.000      6.466      0.000       0.002       0.004\n",
      "dest               0.0006      0.000      1.335      0.182      -0.000       0.001\n",
      "crs_dep_time      -0.0321      0.001    -45.308      0.000      -0.033      -0.031\n",
      "dep_time           0.0353      0.001     49.903      0.000       0.034       0.037\n",
      "crs_arr_time      -0.0012      0.000     -4.547      0.000      -0.002      -0.001\n",
      "arr_time           0.0007      0.000      2.841      0.004       0.000       0.001\n",
      "air_time           0.2681      0.004     64.773      0.000       0.260       0.276\n",
      "distance          -0.0319      0.000    -65.204      0.000      -0.033      -0.031\n",
      "first_dep_time     0.0167      0.001     18.110      0.000       0.015       0.018\n",
      "year              -0.9536      0.097     -9.878      0.000      -1.143      -0.764\n",
      "month              0.1265      0.015      8.508      0.000       0.097       0.156\n",
      "day_of_wk         -0.0294      0.024     -1.226      0.220      -0.076       0.018\n",
      "==============================================================================\n",
      "Omnibus:                    11334.146   Durbin-Watson:                   1.895\n",
      "Prob(Omnibus):                  0.000   Jarque-Bera (JB):            24731.431\n",
      "Skew:                           0.779   Prob(JB):                         0.00\n",
      "Kurtosis:                       5.068   Cond. No.                     1.46e+07\n",
      "==============================================================================\n",
      "\n",
      "Notes:\n",
      "[1] Standard Errors assume that the covariance matrix of the errors is correctly specified.\n",
      "[2] The condition number is large, 1.46e+07. This might indicate that there are\n",
      "strong multicollinearity or other numerical problems.\n"
     ]
    }
   ],
   "source": [
    "# Instantiate linear regression\n",
    "lin_reg = sm.OLS(y,X)\n",
    "\n",
    "model = lin_reg.fit()\n",
    "print_model = model.summary()\n",
    "print(print_model)"
   ]
  },
  {
   "attachments": {},
   "cell_type": "markdown",
   "metadata": {},
   "source": [
    "crs_arr_time P>|t| value is 0.255, so we can drop that variable and re-test:"
   ]
  },
  {
   "cell_type": "code",
   "execution_count": 85,
   "metadata": {},
   "outputs": [],
   "source": [
    "X.drop('crs_dep_time', axis=1, inplace=True)"
   ]
  },
  {
   "cell_type": "code",
   "execution_count": 86,
   "metadata": {},
   "outputs": [
    {
     "name": "stdout",
     "output_type": "stream",
     "text": [
      "                            OLS Regression Results                            \n",
      "==============================================================================\n",
      "Dep. Variable:              arr_delay   R-squared:                       0.062\n",
      "Model:                            OLS   Adj. R-squared:                  0.062\n",
      "Method:                 Least Squares   F-statistic:                     533.0\n",
      "Date:                Fri, 13 Jan 2023   Prob (F-statistic):               0.00\n",
      "Time:                        11:24:14   Log-Likelihood:            -3.6238e+05\n",
      "No. Observations:               88525   AIC:                         7.248e+05\n",
      "Df Residuals:                   88513   BIC:                         7.249e+05\n",
      "Df Model:                          11                                         \n",
      "Covariance Type:            nonrobust                                         \n",
      "==================================================================================\n",
      "                     coef    std err          t      P>|t|      [0.025      0.975]\n",
      "----------------------------------------------------------------------------------\n",
      "const           1909.9500    197.095      9.690      0.000    1523.645    2296.255\n",
      "origin             0.0029      0.000      6.431      0.000       0.002       0.004\n",
      "dest               0.0007      0.000      1.508      0.131      -0.000       0.002\n",
      "dep_time           0.0039      0.000     26.905      0.000       0.004       0.004\n",
      "crs_arr_time      -0.0014      0.000     -5.076      0.000      -0.002      -0.001\n",
      "arr_time           0.0008      0.000      2.903      0.004       0.000       0.001\n",
      "air_time           0.2717      0.004     64.905      0.000       0.263       0.280\n",
      "distance          -0.0324      0.000    -65.391      0.000      -0.033      -0.031\n",
      "first_dep_time     0.0177      0.001     18.990      0.000       0.016       0.020\n",
      "year              -0.9541      0.098     -9.770      0.000      -1.145      -0.763\n",
      "month              0.1285      0.015      8.542      0.000       0.099       0.158\n",
      "day_of_wk         -0.0343      0.024     -1.414      0.157      -0.082       0.013\n",
      "==============================================================================\n",
      "Omnibus:                     6232.699   Durbin-Watson:                   1.890\n",
      "Prob(Omnibus):                  0.000   Jarque-Bera (JB):             7929.677\n",
      "Skew:                           0.655   Prob(JB):                         0.00\n",
      "Kurtosis:                       3.659   Cond. No.                     1.35e+07\n",
      "==============================================================================\n",
      "\n",
      "Notes:\n",
      "[1] Standard Errors assume that the covariance matrix of the errors is correctly specified.\n",
      "[2] The condition number is large, 1.35e+07. This might indicate that there are\n",
      "strong multicollinearity or other numerical problems.\n"
     ]
    }
   ],
   "source": [
    "# Instantiate linear regression\n",
    "lin_reg = sm.OLS(y,X)\n",
    "\n",
    "model = lin_reg.fit()\n",
    "print_model = model.summary()\n",
    "print(print_model)"
   ]
  },
  {
   "cell_type": "code",
   "execution_count": 87,
   "metadata": {},
   "outputs": [],
   "source": [
    "# Import our model:\n",
    "from sklearn.linear_model import LinearRegression"
   ]
  },
  {
   "attachments": {},
   "cell_type": "markdown",
   "metadata": {},
   "source": [
    "Initialize the object and fit the model on our data:"
   ]
  },
  {
   "cell_type": "code",
   "execution_count": 88,
   "metadata": {},
   "outputs": [
    {
     "data": {
      "text/html": [
       "<style>#sk-container-id-3 {color: black;background-color: white;}#sk-container-id-3 pre{padding: 0;}#sk-container-id-3 div.sk-toggleable {background-color: white;}#sk-container-id-3 label.sk-toggleable__label {cursor: pointer;display: block;width: 100%;margin-bottom: 0;padding: 0.3em;box-sizing: border-box;text-align: center;}#sk-container-id-3 label.sk-toggleable__label-arrow:before {content: \"▸\";float: left;margin-right: 0.25em;color: #696969;}#sk-container-id-3 label.sk-toggleable__label-arrow:hover:before {color: black;}#sk-container-id-3 div.sk-estimator:hover label.sk-toggleable__label-arrow:before {color: black;}#sk-container-id-3 div.sk-toggleable__content {max-height: 0;max-width: 0;overflow: hidden;text-align: left;background-color: #f0f8ff;}#sk-container-id-3 div.sk-toggleable__content pre {margin: 0.2em;color: black;border-radius: 0.25em;background-color: #f0f8ff;}#sk-container-id-3 input.sk-toggleable__control:checked~div.sk-toggleable__content {max-height: 200px;max-width: 100%;overflow: auto;}#sk-container-id-3 input.sk-toggleable__control:checked~label.sk-toggleable__label-arrow:before {content: \"▾\";}#sk-container-id-3 div.sk-estimator input.sk-toggleable__control:checked~label.sk-toggleable__label {background-color: #d4ebff;}#sk-container-id-3 div.sk-label input.sk-toggleable__control:checked~label.sk-toggleable__label {background-color: #d4ebff;}#sk-container-id-3 input.sk-hidden--visually {border: 0;clip: rect(1px 1px 1px 1px);clip: rect(1px, 1px, 1px, 1px);height: 1px;margin: -1px;overflow: hidden;padding: 0;position: absolute;width: 1px;}#sk-container-id-3 div.sk-estimator {font-family: monospace;background-color: #f0f8ff;border: 1px dotted black;border-radius: 0.25em;box-sizing: border-box;margin-bottom: 0.5em;}#sk-container-id-3 div.sk-estimator:hover {background-color: #d4ebff;}#sk-container-id-3 div.sk-parallel-item::after {content: \"\";width: 100%;border-bottom: 1px solid gray;flex-grow: 1;}#sk-container-id-3 div.sk-label:hover label.sk-toggleable__label {background-color: #d4ebff;}#sk-container-id-3 div.sk-serial::before {content: \"\";position: absolute;border-left: 1px solid gray;box-sizing: border-box;top: 0;bottom: 0;left: 50%;z-index: 0;}#sk-container-id-3 div.sk-serial {display: flex;flex-direction: column;align-items: center;background-color: white;padding-right: 0.2em;padding-left: 0.2em;position: relative;}#sk-container-id-3 div.sk-item {position: relative;z-index: 1;}#sk-container-id-3 div.sk-parallel {display: flex;align-items: stretch;justify-content: center;background-color: white;position: relative;}#sk-container-id-3 div.sk-item::before, #sk-container-id-3 div.sk-parallel-item::before {content: \"\";position: absolute;border-left: 1px solid gray;box-sizing: border-box;top: 0;bottom: 0;left: 50%;z-index: -1;}#sk-container-id-3 div.sk-parallel-item {display: flex;flex-direction: column;z-index: 1;position: relative;background-color: white;}#sk-container-id-3 div.sk-parallel-item:first-child::after {align-self: flex-end;width: 50%;}#sk-container-id-3 div.sk-parallel-item:last-child::after {align-self: flex-start;width: 50%;}#sk-container-id-3 div.sk-parallel-item:only-child::after {width: 0;}#sk-container-id-3 div.sk-dashed-wrapped {border: 1px dashed gray;margin: 0 0.4em 0.5em 0.4em;box-sizing: border-box;padding-bottom: 0.4em;background-color: white;}#sk-container-id-3 div.sk-label label {font-family: monospace;font-weight: bold;display: inline-block;line-height: 1.2em;}#sk-container-id-3 div.sk-label-container {text-align: center;}#sk-container-id-3 div.sk-container {/* jupyter's `normalize.less` sets `[hidden] { display: none; }` but bootstrap.min.css set `[hidden] { display: none !important; }` so we also need the `!important` here to be able to override the default hidden behavior on the sphinx rendered scikit-learn.org. See: https://github.com/scikit-learn/scikit-learn/issues/21755 */display: inline-block !important;position: relative;}#sk-container-id-3 div.sk-text-repr-fallback {display: none;}</style><div id=\"sk-container-id-3\" class=\"sk-top-container\"><div class=\"sk-text-repr-fallback\"><pre>LinearRegression()</pre><b>In a Jupyter environment, please rerun this cell to show the HTML representation or trust the notebook. <br />On GitHub, the HTML representation is unable to render, please try loading this page with nbviewer.org.</b></div><div class=\"sk-container\" hidden><div class=\"sk-item\"><div class=\"sk-estimator sk-toggleable\"><input class=\"sk-toggleable__control sk-hidden--visually\" id=\"sk-estimator-id-3\" type=\"checkbox\" checked><label for=\"sk-estimator-id-3\" class=\"sk-toggleable__label sk-toggleable__label-arrow\">LinearRegression</label><div class=\"sk-toggleable__content\"><pre>LinearRegression()</pre></div></div></div></div></div>"
      ],
      "text/plain": [
       "LinearRegression()"
      ]
     },
     "execution_count": 88,
     "metadata": {},
     "output_type": "execute_result"
    }
   ],
   "source": [
    "regressor = LinearRegression()\n",
    "regressor.fit(X, y)"
   ]
  },
  {
   "cell_type": "code",
   "execution_count": 89,
   "metadata": {},
   "outputs": [
    {
     "name": "stdout",
     "output_type": "stream",
     "text": [
      "[ 0.00000000e+00  2.91303771e-03  6.83502995e-04  3.91972405e-03\n",
      " -1.35080765e-03  7.57824773e-04  2.71698147e-01 -3.23859272e-02\n",
      "  1.76906596e-02 -9.54061060e-01  1.28483298e-01 -3.43340655e-02]\n"
     ]
    }
   ],
   "source": [
    "# Check the beta coeffient:\n",
    "print(regressor.coef_)"
   ]
  },
  {
   "attachments": {},
   "cell_type": "markdown",
   "metadata": {},
   "source": [
    "### NAIVE BAYES\n"
   ]
  },
  {
   "cell_type": "code",
   "execution_count": 90,
   "metadata": {},
   "outputs": [],
   "source": [
    "from sklearn.naive_bayes import GaussianNB\n",
    "model = GaussianNB()\n",
    "model.fit(X, y);"
   ]
  },
  {
   "cell_type": "code",
   "execution_count": 91,
   "metadata": {},
   "outputs": [],
   "source": [
    "# rng = np.random.RandomState(0)\n",
    "# Xnew = [-6, -14] + [14, 18] * rng.rand(2000, 2)\n",
    "# ynew = model.predict(Xnew)"
   ]
  },
  {
   "cell_type": "code",
   "execution_count": null,
   "metadata": {},
   "outputs": [],
   "source": []
  },
  {
   "cell_type": "code",
   "execution_count": null,
   "metadata": {},
   "outputs": [],
   "source": []
  },
  {
   "cell_type": "code",
   "execution_count": null,
   "metadata": {},
   "outputs": [],
   "source": []
  },
  {
   "attachments": {},
   "cell_type": "markdown",
   "metadata": {},
   "source": [
    "### RANDOM FOREST"
   ]
  },
  {
   "cell_type": "code",
   "execution_count": null,
   "metadata": {},
   "outputs": [],
   "source": []
  },
  {
   "attachments": {},
   "cell_type": "markdown",
   "metadata": {},
   "source": [
    "### SVM"
   ]
  },
  {
   "cell_type": "code",
   "execution_count": null,
   "metadata": {},
   "outputs": [],
   "source": []
  },
  {
   "attachments": {},
   "cell_type": "markdown",
   "metadata": {},
   "source": [
    "### XGBOOST\n"
   ]
  },
  {
   "attachments": {},
   "cell_type": "markdown",
   "metadata": {},
   "source": [
    "_(Referenced: [W6D5m15_Using_XGBoost](../../../../Documents/LHL%20DS%20Bootcamp/Course%20work/W6/W6D5m15_using_XGBoost.ipynb))_"
   ]
  },
  {
   "cell_type": "code",
   "execution_count": 92,
   "metadata": {},
   "outputs": [],
   "source": [
    "# Generate Dmatrix\n",
    "data_dmatrix = xgb.DMatrix(data=X,label=y)\n"
   ]
  },
  {
   "attachments": {},
   "cell_type": "markdown",
   "metadata": {},
   "source": [
    "Using `train_test_split` to create the test and train for cross-validation.\n",
    "- `test_size` size = 20% \n",
    "- `random_state` used for reproducibility"
   ]
  },
  {
   "cell_type": "code",
   "execution_count": 93,
   "metadata": {},
   "outputs": [],
   "source": [
    "from sklearn.model_selection import train_test_split\n",
    "\n",
    "X_train, X_test, y_train, y_test = train_test_split(X, y, test_size=0.2, random_state=123)"
   ]
  },
  {
   "attachments": {},
   "cell_type": "markdown",
   "metadata": {},
   "source": [
    "Instantiating a XGBoost regressor:"
   ]
  },
  {
   "cell_type": "code",
   "execution_count": 94,
   "metadata": {},
   "outputs": [],
   "source": [
    "xg_reg = xgb.XGBRegressor(\n",
    "        objective ='reg:squarederror' # Loss function\n",
    "      , colsample_bytree = 0.3  # % of features used per tree\n",
    "      , learning_rate = 0.1  # Overfit prevention step size. Range[0,1]\n",
    "      , max_depth = 5 # Boosting round tree depth\n",
    "      , alpha = 10  # L1 regularization on leaf weights.\n",
    "      , n_estimators = 10 # Number of trees to build\n",
    ")"
   ]
  },
  {
   "attachments": {},
   "cell_type": "markdown",
   "metadata": {},
   "source": [
    ">Above code was `reg:linear` from class tutorial, but was changed as result of this warning:\n",
    ">```\n",
    ">reg:linear is now deprecated in favor of reg:squarederror.\n",
    ">```"
   ]
  },
  {
   "cell_type": "code",
   "execution_count": 95,
   "metadata": {},
   "outputs": [],
   "source": [
    "# Fit the training set with .fit():\n",
    "xg_reg.fit(X_train,y_train)\n",
    "\n",
    "# Make predictions with .predict():\n",
    "preds = xg_reg.predict(X_test)"
   ]
  },
  {
   "cell_type": "code",
   "execution_count": 96,
   "metadata": {},
   "outputs": [
    {
     "name": "stdout",
     "output_type": "stream",
     "text": [
      "RMSE: 14.938775\n"
     ]
    }
   ],
   "source": [
    "rmse = np.sqrt(mean_squared_error(y_test, preds))\n",
    "print(\"RMSE: %f\" % (rmse))"
   ]
  },
  {
   "cell_type": "code",
   "execution_count": 97,
   "metadata": {},
   "outputs": [],
   "source": [
    "# Hyper-parameter dictionary\n",
    "params = {\n",
    "      \"objective\":\"reg:squarederror\"\n",
    "    , 'colsample_bytree': 0.3\n",
    "    , 'learning_rate': 0.1\n",
    "    , 'max_depth': 5\n",
    "    , 'alpha': 10\n",
    "}\n",
    "\n",
    "# 3-fold cross validation model:\n",
    "cv_results = xgb.cv(\n",
    "      dtrain = data_dmatrix\n",
    "    , params = params\n",
    "    , nfold = 3\n",
    "    , num_boost_round = 50\n",
    "    , early_stopping_rounds = 10\n",
    "    , metrics = \"rmse\"\n",
    "    , as_pandas = True\n",
    "    , seed = 123\n",
    ")\n"
   ]
  },
  {
   "attachments": {},
   "cell_type": "markdown",
   "metadata": {},
   "source": [
    ">Above code was `reg:linear` from class tutorial, but was changed as result of this warning:\n",
    ">```\n",
    ">reg:linear is now deprecated in favor of reg:squarederror.\n",
    ">```"
   ]
  },
  {
   "cell_type": "code",
   "execution_count": 98,
   "metadata": {},
   "outputs": [
    {
     "data": {
      "text/html": [
       "<div>\n",
       "<style scoped>\n",
       "    .dataframe tbody tr th:only-of-type {\n",
       "        vertical-align: middle;\n",
       "    }\n",
       "\n",
       "    .dataframe tbody tr th {\n",
       "        vertical-align: top;\n",
       "    }\n",
       "\n",
       "    .dataframe thead th {\n",
       "        text-align: right;\n",
       "    }\n",
       "</style>\n",
       "<table border=\"1\" class=\"dataframe\">\n",
       "  <thead>\n",
       "    <tr style=\"text-align: right;\">\n",
       "      <th></th>\n",
       "      <th>train-rmse-mean</th>\n",
       "      <th>train-rmse-std</th>\n",
       "      <th>test-rmse-mean</th>\n",
       "      <th>test-rmse-std</th>\n",
       "    </tr>\n",
       "  </thead>\n",
       "  <tbody>\n",
       "    <tr>\n",
       "      <th>0</th>\n",
       "      <td>16.005618</td>\n",
       "      <td>0.010497</td>\n",
       "      <td>16.010424</td>\n",
       "      <td>0.021688</td>\n",
       "    </tr>\n",
       "    <tr>\n",
       "      <th>1</th>\n",
       "      <td>15.797338</td>\n",
       "      <td>0.010661</td>\n",
       "      <td>15.805701</td>\n",
       "      <td>0.023400</td>\n",
       "    </tr>\n",
       "    <tr>\n",
       "      <th>2</th>\n",
       "      <td>15.584483</td>\n",
       "      <td>0.045168</td>\n",
       "      <td>15.596683</td>\n",
       "      <td>0.071714</td>\n",
       "    </tr>\n",
       "    <tr>\n",
       "      <th>3</th>\n",
       "      <td>15.436779</td>\n",
       "      <td>0.039050</td>\n",
       "      <td>15.451524</td>\n",
       "      <td>0.070525</td>\n",
       "    </tr>\n",
       "    <tr>\n",
       "      <th>4</th>\n",
       "      <td>15.279763</td>\n",
       "      <td>0.046708</td>\n",
       "      <td>15.297176</td>\n",
       "      <td>0.052847</td>\n",
       "    </tr>\n",
       "  </tbody>\n",
       "</table>\n",
       "</div>"
      ],
      "text/plain": [
       "   train-rmse-mean  train-rmse-std  test-rmse-mean  test-rmse-std\n",
       "0        16.005618        0.010497       16.010424       0.021688\n",
       "1        15.797338        0.010661       15.805701       0.023400\n",
       "2        15.584483        0.045168       15.596683       0.071714\n",
       "3        15.436779        0.039050       15.451524       0.070525\n",
       "4        15.279763        0.046708       15.297176       0.052847"
      ]
     },
     "execution_count": 98,
     "metadata": {},
     "output_type": "execute_result"
    }
   ],
   "source": [
    "# Train and test RMSE metrics for each boosting round.\n",
    "cv_results.head()"
   ]
  },
  {
   "cell_type": "code",
   "execution_count": 99,
   "metadata": {},
   "outputs": [
    {
     "name": "stdout",
     "output_type": "stream",
     "text": [
      "49    14.402542\n",
      "Name: test-rmse-mean, dtype: float64\n"
     ]
    }
   ],
   "source": [
    "print((cv_results[\"test-rmse-mean\"]).tail(1))"
   ]
  },
  {
   "cell_type": "code",
   "execution_count": 100,
   "metadata": {},
   "outputs": [],
   "source": [
    "xg_reg = xgb.train(\n",
    "      params = params\n",
    "    , dtrain = data_dmatrix\n",
    "    , num_boost_round = 10\n",
    ")"
   ]
  },
  {
   "cell_type": "code",
   "execution_count": 101,
   "metadata": {},
   "outputs": [
    {
     "data": {
      "image/png": "[encoded data removed]",
      "text/plain": [
       "<Figure size 1000x1000 with 1 Axes>"
      ]
     },
     "metadata": {},
     "output_type": "display_data"
    }
   ],
   "source": [
    "xgb.plot_importance(xg_reg)\n",
    "plt.rcParams['figure.figsize'] = [10, 10]\n",
    "plt.show()"
   ]
  },
  {
   "cell_type": "code",
   "execution_count": 102,
   "metadata": {},
   "outputs": [
    {
     "data": {
      "image/png": "[encoded data removed]",
      "text/plain": [
       "<Figure size 1000x1000 with 1 Axes>"
      ]
     },
     "metadata": {},
     "output_type": "display_data"
    }
   ],
   "source": [
    "fig = plt.scatter(x= y_test, y= preds, alpha=0.3)"
   ]
  },
  {
   "cell_type": "markdown",
   "metadata": {},
   "source": [
    "### Evaluation"
   ]
  },
  {
   "cell_type": "markdown",
   "metadata": {},
   "source": [
    "You have data from 2018 and 2019 to develop models. Use different evaluation metrics for each problem and compare the performance of different models.\n",
    "\n",
    "You are required to predict delays on **out of sample** data from **first 7 days (1st-7th) of January 2020** and to share the file with LighthouseLabs. Sample submission can be found in the file **_sample_submission.csv_**"
   ]
  },
  {
   "attachments": {},
   "cell_type": "markdown",
   "metadata": {},
   "source": [
    "_(Referenced: [W6D4m9_Model_evaluation](../../../../Documents/LHL%20DS%20Bootcamp/Course%20work/W6/W6D4m9_model_evaluation.ipynb))_"
   ]
  },
  {
   "cell_type": "code",
   "execution_count": 103,
   "metadata": {},
   "outputs": [
    {
     "name": "stdout",
     "output_type": "stream",
     "text": [
      "223.16699024190777\n"
     ]
    }
   ],
   "source": [
    "# import MSE from sklearn\n",
    "from sklearn.metrics import mean_squared_error\n",
    "\n",
    "# compute MSE\n",
    "MSE = mean_squared_error(y_test, preds)  \n",
    "\n",
    "# print MSE\n",
    "print(MSE)"
   ]
  },
  {
   "cell_type": "code",
   "execution_count": 104,
   "metadata": {},
   "outputs": [],
   "source": [
    "# # import accuracy_score from sklearn\n",
    "# from sklearn.metrics import accuracy_score\n",
    "\n",
    "# # compute accuracy\n",
    "# accuracy = accuracy_score(y_test, preds)\n",
    "\n",
    "# # print accuracy\n",
    "# print(accuracy)"
   ]
  },
  {
   "cell_type": "code",
   "execution_count": 105,
   "metadata": {},
   "outputs": [],
   "source": [
    "# # import f1_score from sklearn\n",
    "# from sklearn.metrics import f1_score\n",
    "\n",
    "# # compute F1-score\n",
    "# f1_score = f1_score(y_test, preds)\n",
    "\n",
    "# # print F1-score\n",
    "# print(f1_score)"
   ]
  },
  {
   "cell_type": "code",
   "execution_count": null,
   "metadata": {},
   "outputs": [],
   "source": []
  },
  {
   "cell_type": "code",
   "execution_count": null,
   "metadata": {},
   "outputs": [],
   "source": []
  },
  {
   "cell_type": "markdown",
   "metadata": {},
   "source": [
    "======================================================================\n",
    "## Stretch Tasks"
   ]
  },
  {
   "cell_type": "markdown",
   "metadata": {},
   "source": [
    "### Multiclass Classification"
   ]
  },
  {
   "cell_type": "markdown",
   "metadata": {},
   "source": [
    "The target variables are **CARRIER_DELAY, WEATHER_DELAY, NAS_DELAY, SECURITY_DELAY, LATE_AIRCRAFT_DELAY**. We need to do additional transformations because these variables are not binary but continuos. For each flight that was delayed, we need to have one of these variables as 1 and others 0.\n",
    "\n",
    "It can happen that we have two types of delays with more than 0 minutes. In this case, take the bigger one as 1 and others as 0."
   ]
  },
  {
   "cell_type": "code",
   "execution_count": null,
   "metadata": {},
   "outputs": [],
   "source": []
  },
  {
   "cell_type": "code",
   "execution_count": null,
   "metadata": {},
   "outputs": [],
   "source": []
  },
  {
   "cell_type": "code",
   "execution_count": null,
   "metadata": {},
   "outputs": [],
   "source": []
  },
  {
   "cell_type": "markdown",
   "metadata": {},
   "source": [
    "### Binary Classification"
   ]
  },
  {
   "cell_type": "markdown",
   "metadata": {},
   "source": [
    "The target variable is **CANCELLED**. The main problem here is going to be huge class imbalance. We have only very little cancelled flights with comparison to all flights. It is important to do the right sampling before training and to choose correct evaluation metrics."
   ]
  },
  {
   "cell_type": "code",
   "execution_count": null,
   "metadata": {},
   "outputs": [],
   "source": []
  },
  {
   "cell_type": "code",
   "execution_count": null,
   "metadata": {},
   "outputs": [],
   "source": []
  },
  {
   "cell_type": "code",
   "execution_count": null,
   "metadata": {},
   "outputs": [],
   "source": []
  }
 ],
 "metadata": {
  "kernelspec": {
   "display_name": "base_env",
   "language": "python",
   "name": "python3"
  },
  "language_info": {
   "codemirror_mode": {
    "name": "ipython",
    "version": 3
   },
   "file_extension": ".py",
   "mimetype": "text/x-python",
   "name": "python",
   "nbconvert_exporter": "python",
   "pygments_lexer": "ipython3",
   "version": "3.10.8"
  },
  "vscode": {
   "interpreter": {
    "hash": "39512f3c2a1741d7f752d45a133d4514127029333ea14bc2f3c6c5e6759b9029"
   }
  }
 },
 "nbformat": 4,
 "nbformat_minor": 4
}
