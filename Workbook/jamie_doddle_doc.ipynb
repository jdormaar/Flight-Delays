{
 "cells": [
  {
   "attachments": {},
   "cell_type": "markdown",
   "metadata": {},
   "source": [
    "# PROGRESS NOTES:\n",
    "----\n",
    "## ACTIVE USE DATA TABLES:\n",
    "\n",
    "### FLIGHTS\n",
    "```sql\n",
    "SELECT * \n",
    "FROM flights\n",
    "LIMIT 500000;\n",
    "-- SAVED AS: flights_initial_500000_records.csv.zip\n",
    "```\n",
    "This above query returned date ranges from only two months in 2018, so the source database table is likely ordered in some format by date.\n",
    "\n",
    "randomizing the records of the flights table for broader range of date selection using:\n",
    "```sql\n",
    "SELECT * \n",
    "FROM flights\n",
    "WHERE RANDOM() <= 0.01\n",
    "LIMIT 100000;\n",
    "-- SAVED AS: flights_initial_500000_records.csv.zip\n",
    "```\n",
    "### FLIGHTS_TEST\n",
    "\n",
    "```SQL\n",
    "SELECT * \n",
    "FROM flights_test;\n",
    "-- SAVED AS: flights_test_all_records.csv.zip\n",
    "```\n",
    "### PASSENGERS\n",
    "\n",
    "```SQL\n",
    "SELECT * \n",
    "FROM passengers\n",
    "LIMIT 300000;\n",
    "-- SAVED AS: passengers_initial_300000.csv.zip\n",
    "```\n",
    "### FUEL_CONSUMPTION\n",
    "\n",
    "```SQL\n",
    "SELECT * \n",
    "FROM fuel_consumption;\n",
    "-- SAVED AS: fuel_consumption_all_records.csv.zip\n",
    "```\n",
    "\n",
    "----\n",
    "## SAVED SNIPPETS FOR LATER\n",
    "```py\n",
    "# Save sample for faster experimental df work:\n",
    "dfa = df_X.sample(frac = 0.005)\n",
    "```\n",
    "\n",
    "```sql\n",
    "-- find values by string values to find typos etc\n",
    "-- This ex: Find all facilities whose name BEGINS with 'Tennis'\n",
    "SELECT * FROM cd.facilities\n",
    "WHERE UPPER(name) LIKE 'TENNIS%'\n",
    "-- This ex: Find all facilities whose name CONTAINS  'Tennis'\n",
    "SELECT * FROM cd.facilities\n",
    "WHERE UPPER(name) LIKE '%TENNIS%'\n",
    "-- Strings can be searched using the regex  ~ operator too. this ex looks for '()'\n",
    "SELECT memid, telephone FROM cd.members\n",
    "WHERE telephone ~ '[()]';\n",
    "\n",
    "```\n",
    "## SAVESTAMP\n",
    "```py\n",
    "dt.now().time().strftime('%b%d_%H%M')\n",
    "'Jan01_1704'\n",
    "dt.now().time().strftime('%b%-d_%H%M')\n",
    "'Jan1_1708'\n",
    "dt.now().time().strftime('%a_%H%M')\n",
    "'Mon_1710'\n",
    "```\n",
    "\n",
    "```py\n",
    "from sklearn.preprocessing import LabelEncoder\n",
    "le = LabelEncoder()\n",
    "\n",
    "# New variable for outlet\n",
    "X = df['col']\n",
    "df['col'] = le.fit_transform(df['col'])\n",
    "\n",
    "# Drop the columns which have been converted to different types\n",
    "df.drop(['col', 'col2'],axis=1,inplace=True)\n",
    "```"
   ]
  },
  {
   "cell_type": "code",
   "execution_count": 1,
   "metadata": {},
   "outputs": [],
   "source": [
    "import pandas as pd\n",
    "import numpy as np\n",
    "from datetime import datetime as dt\n",
    "import matplotlib.pyplot as plt\n",
    "%matplotlib inline\n",
    "import seaborn as sns\n",
    "sns.set_theme()\n",
    "\n",
    "from scipy import stats\n",
    "\n",
    "import warnings\n",
    "warnings.filterwarnings('ignore')\n",
    "\n"
   ]
  },
  {
   "cell_type": "code",
   "execution_count": null,
   "metadata": {},
   "outputs": [],
   "source": [
    "# SAVE yourself a session timestamp if you want to help keep your files organized\n",
    "user = 'Jamie_'\n",
    "session = dt.now().time().strftime(f'{user}%b%d_%H%M')   # 'Jamie_Jan01_1704'\n",
    "session = dt.now().time().strftime(f'{user}%b%-d_%H%M')  # 'Jamie_Jan1_1708'\n",
    "session = dt.now().time().strftime(f'{user}%a_%H%M')     # 'Jamie_Mon_1710'\n",
    "session = ''"
   ]
  },
  {
   "cell_type": "code",
   "execution_count": null,
   "metadata": {},
   "outputs": [],
   "source": [
    "# Load data tables:\n",
    "flights = pd.read_csv('../data/flights_initial_500000_records.csv', delimiter= ',')\n",
    "flights_test = pd.read_csv('../data/flights_test_all_records.csv', delimiter= ',')\n",
    "fuel_consumption = pd.read_csv('../data/fuel_consumption_all_records.csv', delimiter= ',')\n",
    "passengers = pd.read_csv('../data/passengers.csv', delimiter= ',')"
   ]
  },
  {
   "cell_type": "code",
   "execution_count": null,
   "metadata": {},
   "outputs": [],
   "source": [
    "# Other data tables:\n"
   ]
  },
  {
   "cell_type": "code",
   "execution_count": null,
   "metadata": {},
   "outputs": [],
   "source": [
    "# Save sample for faster experimental df work:\n",
    "dfa = df_X.sample(frac = 0.005)"
   ]
  },
  {
   "cell_type": "code",
   "execution_count": null,
   "metadata": {},
   "outputs": [],
   "source": [
    "# Note for later to get the weekday - (came across the code)\n",
    "# \n",
    "#  import calendar\n",
    "# calendar.day_name[fl_df['date'].weekday()]"
   ]
  },
  {
   "cell_type": "code",
   "execution_count": 3,
   "metadata": {},
   "outputs": [
    {
     "ename": "NameError",
     "evalue": "name 'dt' is not defined",
     "output_type": "error",
     "traceback": [
      "\u001b[0;31m---------------------------------------------------------------------------\u001b[0m",
      "\u001b[0;31mNameError\u001b[0m                                 Traceback (most recent call last)",
      "Cell \u001b[0;32mIn[3], line 2\u001b[0m\n\u001b[1;32m      1\u001b[0m \u001b[39mfor\u001b[39;00m date \u001b[39min\u001b[39;00m \u001b[39mrange\u001b[39m(\u001b[39m3\u001b[39m):\n\u001b[0;32m----> 2\u001b[0m   fl_df\u001b[39m.\u001b[39mfl_date\u001b[39m.\u001b[39miloc[date] \u001b[39m=\u001b[39m dt\u001b[39m.\u001b[39mstrptime(fl_df\u001b[39m.\u001b[39mfl_date\u001b[39m.\u001b[39miloc[date], \u001b[39m'\u001b[39m\u001b[39m%\u001b[39m\u001b[39mY-\u001b[39m\u001b[39m%\u001b[39m\u001b[39mm-\u001b[39m\u001b[39m%d\u001b[39;00m\u001b[39m'\u001b[39m)\n",
      "\u001b[0;31mNameError\u001b[0m: name 'dt' is not defined"
     ]
    }
   ],
   "source": [
    "for date in range(3):\n",
    "  fl_df.fl_date.iloc[date] = dt.strptime(fl_df.fl_date.iloc[date], '%Y-%m-%d')"
   ]
  },
  {
   "cell_type": "code",
   "execution_count": null,
   "metadata": {},
   "outputs": [],
   "source": [
    "fl_date = fl_df_clean['fl_date']\n",
    "fl_date.iloc[2]"
   ]
  },
  {
   "cell_type": "code",
   "execution_count": null,
   "metadata": {},
   "outputs": [],
   "source": [
    "# Confirm new data type:\n",
    "print(fl_df['fl_date'][2])\n",
    "type(fl_df['fl_date'][2])"
   ]
  },
  {
   "cell_type": "code",
   "execution_count": null,
   "metadata": {},
   "outputs": [],
   "source": [
    "  'fl_date'\n",
    ", 'mkt_unique_carrier'\n",
    ", 'branded_code_share'\n",
    ", 'mkt_carrier'\n",
    ", 'mkt_carrier_fl_num'\n",
    ", 'op_unique_carrier'\n",
    ", 'tail_num'\n",
    ", 'op_carrier_fl_num'\n",
    ", 'origin_airport_id'\n",
    ", 'origin'\n",
    ", 'origin_city_name'\n",
    ", 'dest_airport_id'\n",
    ", 'dest'\n",
    ", 'dest_city_name'\n",
    ", 'crs_dep_time'\n",
    ", 'dep_time'\n",
    ", 'dep_delay'\n",
    ", 'taxi_out'\n",
    ", 'wheels_off'\n",
    ", 'wheels_on'\n",
    ", 'taxi_in'\n",
    ", 'crs_arr_time'\n",
    ", 'arr_time'\n",
    ", 'arr_delay'\n",
    ", 'cancelled'\n",
    ", 'cancellation_code'\n",
    ", 'diverted'\n",
    ", 'dup'\n",
    ", 'crs_elapsed_time'\n",
    ", 'actual_elapsed_time'\n",
    ", 'air_time'\n",
    ", 'flights'\n",
    ", 'distance'\n",
    ", 'carrier_delay'\n",
    ", 'weather_delay'\n",
    ", 'nas_delay'\n",
    ", 'security_delay'\n",
    ", 'late_aircraft_delay'\n",
    ", 'first_dep_time'\n",
    ", 'total_add_gtime'\n",
    ", 'longest_add_gtime'"
   ]
  },
  {
   "cell_type": "markdown",
   "metadata": {},
   "source": [
    "## Exploratory Data Analysis\n",
    "\n",
    "Use this notebook to get familiar with the datasets we have. There is 10 questions we need to answer during the EDA.\n",
    "\n",
    "\n",
    "We shouldn't limit our EDA to these 10 questions. Let's be creative :)."
   ]
  },
  {
   "cell_type": "code",
   "execution_count": null,
   "metadata": {},
   "outputs": [],
   "source": []
  },
  {
   "cell_type": "code",
   "execution_count": null,
   "metadata": {},
   "outputs": [],
   "source": [
    "kajdflkasjdflkashd"
   ]
  },
  {
   "cell_type": "markdown",
   "metadata": {},
   "source": [
    "good bye good bye"
   ]
  },
  {
   "cell_type": "markdown",
   "metadata": {},
   "source": [
    "#### **Task 1**: Test the hypothesis that the delay is from Normal distribution. and that **mean** of the delay is 0. Be careful about the outliers."
   ]
  },
  {
   "cell_type": "code",
   "execution_count": null,
   "metadata": {},
   "outputs": [],
   "source": [
    "'merge conflict'"
   ]
  },
  {
   "cell_type": "code",
   "execution_count": null,
   "metadata": {},
   "outputs": [],
   "source": []
  },
  {
   "cell_type": "markdown",
   "metadata": {},
   "source": [
    "#### **Task 2**: Is average/median monthly delay different during the year? If yes, which are months with the biggest delays and what could be the reason?"
   ]
  },
  {
   "cell_type": "code",
   "execution_count": null,
   "metadata": {},
   "outputs": [],
   "source": [
    "# scatter plot arr_delay vs. month\n",
    "var = 'arr_delay'\n",
    "data = df_fl_init[['month',var]]\n",
    "data.plot.scatter(x=var, y='month')"
   ]
  },
  {
   "attachments": {},
   "cell_type": "markdown",
   "metadata": {},
   "source": [
    "plot examples form W3D1L-Intro_to_EDA1.ipynb"
   ]
  },
  {
   "cell_type": "code",
   "execution_count": null,
   "metadata": {},
   "outputs": [],
   "source": [
    "sns.kdeplot(data=df_fl_init, x=\"month\", y=\"arr_delay\")\n",
    "plt.show()"
   ]
  },
  {
   "cell_type": "code",
   "execution_count": null,
   "metadata": {},
   "outputs": [],
   "source": [
    "sns.scatterplot(data=df_fl_init, x=\"month\", y=\"arr_delay\")\n",
    "plt.show()"
   ]
  },
  {
   "cell_type": "code",
   "execution_count": null,
   "metadata": {},
   "outputs": [],
   "source": [
    "sns.jointplot(data=diabetes_df, x=\"Glucose\", y=\"Insulin\")\n",
    "plt.show()"
   ]
  },
  {
   "cell_type": "code",
   "execution_count": null,
   "metadata": {},
   "outputs": [],
   "source": [
    "sns.heatmap(diabetes_df.corr())"
   ]
  },
  {
   "cell_type": "code",
   "execution_count": null,
   "metadata": {},
   "outputs": [],
   "source": [
    "sns.pairplot(diabetes_df)\n",
    "plt.show()"
   ]
  },
  {
   "cell_type": "code",
   "execution_count": null,
   "metadata": {},
   "outputs": [],
   "source": [
    "ax = sns.PairGrid(diabetes_df)\n",
    "ax.map_upper(sns.histplot)\n",
    "ax.map_lower(sns.kdeplot, fill=True)\n",
    "ax.map_diag(sns.histplot, kde=True)\n",
    "plt.show()"
   ]
  },
  {
   "cell_type": "code",
   "execution_count": null,
   "metadata": {},
   "outputs": [],
   "source": [
    "diabetes_df.corr()"
   ]
  },
  {
   "cell_type": "markdown",
   "metadata": {},
   "source": [
    "#### **Task 3**: Does the weather affect the delay? \n",
    "Use the API to pull the weather information for flights. There is no need to get weather for ALL flights. We can choose the right representative sample. Let's focus on four weather types:\n",
    "- sunny\n",
    "- cloudy\n",
    "- rainy\n",
    "- snow.\n",
    "Test the hypothesis that these 4 delays are from the same distribution. If they are not, which ones are significantly different?"
   ]
  },
  {
   "cell_type": "code",
   "execution_count": null,
   "metadata": {},
   "outputs": [],
   "source": [
    "def WWO_API_weather_json(city, date):\n",
    "  '''\n",
    "  input:\n",
    "  output:  \n",
    "  '''\n",
    "  api_key = os.environ['WEATHER_API_KEY']\n",
    "  params = {\n",
    "    'q': city\n",
    "    , 'date': date\n",
    "    , 'format': 'json'\n",
    "    , 'key': api_key\n",
    "  }\n",
    "\n",
    "  wwo_url = f'https://api.worldweatheronline.com/premium/v1/past-weather.ashx?'\n",
    "  wwoHxWeather_json = requests.get(wwo_url, params=params).json()\n",
    "\n",
    "  list_of_dict = []\n",
    "  dest_site = wwoHxWeather_json\n",
    "  list_of_dict.append(weather_dict)\n",
    "\n",
    "  return list_of_dict\n",
    "\n",
    "test_weather_api = WWO_API_weather_type('Aberdeen, SD', '2018-01-01')\n",
    "test_weather_api"
   ]
  },
  {
   "cell_type": "code",
   "execution_count": null,
   "metadata": {},
   "outputs": [],
   "source": [
    "test_weather_api = WWO_API_weather_type('Aberdeen, SD', '2018-01-01', 4)\n",
    "test_weather_api"
   ]
  },
  {
   "cell_type": "code",
   "execution_count": null,
   "metadata": {},
   "outputs": [],
   "source": [
    "def WWO_API_weather_type(city, date, time):\n",
    "  '''\n",
    "  input:\n",
    "  output:  \n",
    "  '''\n",
    "  api_key = os.environ['WEATHER_API_KEY']\n",
    "  params = {\n",
    "    'q': city\n",
    "    , 'date': date\n",
    "    , 'format': 'json'\n",
    "    , 'key': api_key\n",
    "  }\n",
    "\n",
    "  wwo_url = f'https://api.worldweatheronline.com/premium/v1/past-weather.ashx?'\n",
    "  wwoHxWeather_json = requests.get(wwo_url, params=params).json()\n",
    "\n",
    "  list_of_dict = []\n",
    "  dest_site = wwoHxWeather_json['data']['weather'][0]['hourly']\n",
    "\n",
    "  weather_dict = {\n",
    "      'weather_type':   dest_site[time]['weatherDesc'][0]['value']\n",
    "  }\n",
    "  list_of_dict.append(weather_dict)\n",
    "  return pd.DataFrame(list_of_dict)\n",
    "\n",
    "    "
   ]
  },
  {
   "cell_type": "code",
   "execution_count": null,
   "metadata": {},
   "outputs": [],
   "source": []
  },
  {
   "cell_type": "code",
   "execution_count": null,
   "metadata": {},
   "outputs": [],
   "source": []
  },
  {
   "cell_type": "markdown",
   "metadata": {},
   "source": [
    "#### **Task 4**: How taxi times changing during the day? Does higher traffic lead to bigger taxi times?"
   ]
  },
  {
   "cell_type": "code",
   "execution_count": null,
   "metadata": {},
   "outputs": [],
   "source": []
  },
  {
   "cell_type": "code",
   "execution_count": null,
   "metadata": {},
   "outputs": [],
   "source": []
  },
  {
   "cell_type": "markdown",
   "metadata": {},
   "source": [
    "#### **Task 5**: What is the average percentage of delays that is already created before departure? (aka are arrival delays caused by departure delays?) Are airlines able to lower the delay during the flights?"
   ]
  },
  {
   "cell_type": "code",
   "execution_count": null,
   "metadata": {},
   "outputs": [],
   "source": []
  },
  {
   "cell_type": "code",
   "execution_count": null,
   "metadata": {},
   "outputs": [],
   "source": []
  },
  {
   "cell_type": "markdown",
   "metadata": {},
   "source": [
    "#### **Task 6**: How many states cover 50% of US air traffic? "
   ]
  },
  {
   "cell_type": "code",
   "execution_count": null,
   "metadata": {},
   "outputs": [],
   "source": []
  },
  {
   "cell_type": "code",
   "execution_count": null,
   "metadata": {},
   "outputs": [],
   "source": []
  },
  {
   "cell_type": "markdown",
   "metadata": {},
   "source": [
    "#### **Task 7**: Test the hypothesis whether planes fly faster when there is the departure delay? "
   ]
  },
  {
   "cell_type": "code",
   "execution_count": null,
   "metadata": {},
   "outputs": [],
   "source": []
  },
  {
   "cell_type": "code",
   "execution_count": null,
   "metadata": {},
   "outputs": [],
   "source": []
  },
  {
   "cell_type": "markdown",
   "metadata": {},
   "source": [
    "#### **Task 8**: When (which hour) do most 'LONG', 'SHORT', 'MEDIUM' haul flights take off?"
   ]
  },
  {
   "cell_type": "code",
   "execution_count": null,
   "metadata": {},
   "outputs": [],
   "source": []
  },
  {
   "cell_type": "code",
   "execution_count": null,
   "metadata": {},
   "outputs": [],
   "source": []
  },
  {
   "cell_type": "markdown",
   "metadata": {},
   "source": [
    "#### **Task 9**: Find the top 10 the bussiest airports. Does the biggest number of flights mean that the biggest number of passengers went through the particular airport? How much traffic do these 10 airports cover?"
   ]
  },
  {
   "cell_type": "code",
   "execution_count": null,
   "metadata": {},
   "outputs": [],
   "source": []
  },
  {
   "cell_type": "code",
   "execution_count": null,
   "metadata": {},
   "outputs": [],
   "source": []
  },
  {
   "cell_type": "markdown",
   "metadata": {},
   "source": [
    "#### **Task 10**: Do bigger delays lead to bigger fuel comsumption per passenger? \n",
    "We need to do four things to answer this as accurate as possible:\n",
    "- Find out average monthly delay per air carrier (monthly delay is sum of all delays in 1 month)\n",
    "- Find out distance covered monthly by different air carriers\n",
    "- Find out number of passengers that were carried by different air carriers\n",
    "- Find out total fuel comsumption per air carrier.\n",
    "\n",
    "Use this information to get the average fuel comsumption per passenger per km. Is this higher for the airlines with bigger average delays?"
   ]
  },
  {
   "cell_type": "code",
   "execution_count": null,
   "metadata": {},
   "outputs": [],
   "source": []
  }
 ],
 "metadata": {
  "kernelspec": {
   "display_name": "base_env",
   "language": "python",
   "name": "python3"
  },
  "language_info": {
   "codemirror_mode": {
    "name": "ipython",
    "version": 3
   },
   "file_extension": ".py",
   "mimetype": "text/x-python",
   "name": "python",
   "nbconvert_exporter": "python",
   "pygments_lexer": "ipython3",
   "version": "3.10.8 | packaged by conda-forge | (main, Nov 22 2022, 08:25:29) [Clang 14.0.6 ]"
  },
  "toc": {
   "base_numbering": 1,
   "nav_menu": {},
   "number_sections": true,
   "sideBar": true,
   "skip_h1_title": false,
   "title_cell": "Table of Contents",
   "title_sidebar": "Contents",
   "toc_cell": false,
   "toc_position": {},
   "toc_section_display": true,
   "toc_window_display": false
  },
  "varInspector": {
   "cols": {
    "lenName": 16,
    "lenType": 16,
    "lenVar": 40
   },
   "kernels_config": {
    "python": {
     "delete_cmd_postfix": "",
     "delete_cmd_prefix": "del ",
     "library": "var_list.py",
     "varRefreshCmd": "print(var_dic_list())"
    },
    "r": {
     "delete_cmd_postfix": ") ",
     "delete_cmd_prefix": "rm(",
     "library": "var_list.r",
     "varRefreshCmd": "cat(var_dic_list()) "
    }
   },
   "types_to_exclude": [
    "module",
    "function",
    "builtin_function_or_method",
    "instance",
    "_Feature"
   ],
   "window_display": false
  },
  "vscode": {
   "interpreter": {
    "hash": "39512f3c2a1741d7f752d45a133d4514127029333ea14bc2f3c6c5e6759b9029"
   }
  }
 },
 "nbformat": 4,
 "nbformat_minor": 4
}
